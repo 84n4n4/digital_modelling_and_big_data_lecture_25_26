{
 "cells": [
  {
   "metadata": {},
   "cell_type": "markdown",
   "source": "# Exercises Variables, Operators, and Datatypes",
   "id": "5a395ff0877d7fb4"
  },
  {
   "metadata": {},
   "cell_type": "markdown",
   "source": "Find and fix the bug *",
   "id": "1c48710543b756e4"
  },
  {
   "metadata": {},
   "cell_type": "code",
   "source": [
    "diameter = 3\n",
    "pi = 3.14\n",
    "\n",
    "area = pi*(diameter//2)**2\n",
    "print(area)"
   ],
   "id": "initial_id",
   "outputs": [],
   "execution_count": null
  },
  {
   "metadata": {},
   "cell_type": "markdown",
   "source": "Find and fix the bug *",
   "id": "6d4359939ca60c9f"
  },
  {
   "metadata": {},
   "cell_type": "code",
   "source": [
    "a = [1,2,3]\n",
    "sum(a)\n",
    "a.append([4])\n",
    "sum(a)"
   ],
   "id": "52a71e95a8904922",
   "outputs": [],
   "execution_count": null
  },
  {
   "metadata": {},
   "cell_type": "markdown",
   "source": "Find and fix the bug **",
   "id": "49cd5cec04017efc"
  },
  {
   "metadata": {},
   "cell_type": "code",
   "source": [
    "a = ['a','b','c']\n",
    "b = 'd'\n",
    "b = print(b)\n",
    "\n",
    "a.append(b)\n",
    "print(a)"
   ],
   "id": "af5db4d19f1912e4",
   "outputs": [],
   "execution_count": null
  },
  {
   "metadata": {},
   "cell_type": "markdown",
   "source": "Whats the type of a and b? And what are the values assigned to a and b? **",
   "id": "d92276f46c3c0532"
  },
  {
   "metadata": {},
   "cell_type": "code",
   "source": [
    "a = ['x'] * 5\n",
    "b = 'x' * 5\n"
   ],
   "id": "aecc09c55c5195f6",
   "outputs": [],
   "execution_count": null
  },
  {
   "metadata": {},
   "cell_type": "markdown",
   "source": "Find and fix the bug *",
   "id": "7978217ce0d5fae3"
  },
  {
   "metadata": {},
   "cell_type": "code",
   "source": [
    "# adds the first and the last item of the list\n",
    "a = [1 ,2 ,3 ,4]\n",
    "print(a[1] + a[4])"
   ],
   "id": "92d86d0a125a36a9",
   "outputs": [],
   "execution_count": null
  },
  {
   "metadata": {},
   "cell_type": "markdown",
   "source": "Find out what the code below does and rewrite it to increase its readability **",
   "id": "606d44566e0f754e"
  },
  {
   "metadata": {},
   "cell_type": "code",
   "source": [
    "a = (1, 1)\n",
    "b = (5, 6)\n",
    "sum([(a[0]-b[0])*(a[0]-b[0]),(a[1]-b[1])*(a[1]-b[1])])**(1/2)\n"
   ],
   "id": "b382da9997cd5482",
   "outputs": [],
   "execution_count": null
  }
 ],
 "metadata": {
  "kernelspec": {
   "display_name": "Python 3",
   "language": "python",
   "name": "python3"
  },
  "language_info": {
   "codemirror_mode": {
    "name": "ipython",
    "version": 2
   },
   "file_extension": ".py",
   "mimetype": "text/x-python",
   "name": "python",
   "nbconvert_exporter": "python",
   "pygments_lexer": "ipython2",
   "version": "2.7.6"
  }
 },
 "nbformat": 4,
 "nbformat_minor": 5
}
