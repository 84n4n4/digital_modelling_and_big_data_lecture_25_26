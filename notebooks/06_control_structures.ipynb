{
 "cells": [
  {
   "metadata": {},
   "cell_type": "markdown",
   "source": "# Control Structures",
   "id": "45bd06a70df2f030"
  },
  {
   "metadata": {},
   "cell_type": "markdown",
   "source": "Up to this point, all our programs ran in one previously determined order. However, often you want to decide what part of your program runs based on the value of a variable, or run the same part of the code multiple times.",
   "id": "a515b6d660d87cb4"
  },
  {
   "metadata": {},
   "cell_type": "markdown",
   "source": [
    "# If\n",
    "If you want to be able to decide which of two code branches is to be run, you need the python `if` statement."
   ],
   "id": "92f576ed020fd7e8"
  },
  {
   "metadata": {},
   "cell_type": "code",
   "source": [
    "a = 5\n",
    "if a > 10:\n",
    "    print('a is greater than 10')\n",
    "    \n",
    "print(a)"
   ],
   "id": "initial_id",
   "outputs": [],
   "execution_count": null
  },
  {
   "metadata": {},
   "cell_type": "markdown",
   "source": "## else ",
   "id": "46daa580f0dabb2"
  },
  {
   "metadata": {},
   "cell_type": "code",
   "source": [
    "a = 5\n",
    "if a > 10:\n",
    "    print('a is greater than 10')\n",
    "else:\n",
    "    print('a is less than 10')"
   ],
   "id": "8e902d072c83e444",
   "outputs": [],
   "execution_count": null
  },
  {
   "metadata": {},
   "cell_type": "markdown",
   "source": "",
   "id": "f80adb44fa5bf1db"
  },
  {
   "metadata": {},
   "cell_type": "markdown",
   "source": "**Exercise** *: Write a function that returns the bigger of two numbers.",
   "id": "622113493990dd21"
  },
  {
   "metadata": {},
   "cell_type": "code",
   "source": [
    "def get_max(a, b):\n",
    "    ..."
   ],
   "id": "3c885039a55896c2",
   "outputs": [],
   "execution_count": null
  },
  {
   "metadata": {},
   "cell_type": "markdown",
   "source": "**Exercise** *: Write a function that adds the first and last number of an array, but returns 0 if the list has less than 2 items. You can determine the length of a list using the `len(x)` function.",
   "id": "2214937b9120a7aa"
  },
  {
   "metadata": {},
   "cell_type": "code",
   "source": [
    "def add_first_and_last(x):\n",
    "    ..."
   ],
   "id": "c6f5267511519829",
   "outputs": [],
   "execution_count": null
  },
  {
   "metadata": {},
   "cell_type": "markdown",
   "source": "**Exercise** **: Write a function that takes two numbers as an input and returns the even one of the two, if both are even, return the bigger one.\n",
   "id": "4137b6f680ac8e52"
  },
  {
   "metadata": {},
   "cell_type": "code",
   "source": [
    "def get_even(x):\n",
    "    ..."
   ],
   "id": "989f28a32517848d",
   "outputs": [],
   "execution_count": null
  },
  {
   "metadata": {},
   "cell_type": "markdown",
   "source": "# Loops",
   "id": "65957bf7a0b02cc7"
  },
  {
   "metadata": {},
   "cell_type": "markdown",
   "source": "When you want to run code a certain amount of times, you need loop statments `while` or `for`",
   "id": "d59715d910b652ac"
  },
  {
   "metadata": {},
   "cell_type": "markdown",
   "source": [
    "## While\n",
    "`while` runs the contained code block as long as the loop condition (`counter < 5`) evaluates to True."
   ],
   "id": "fae035a7f3f04f21"
  },
  {
   "metadata": {},
   "cell_type": "code",
   "source": [
    "counter = 0\n",
    "while counter < 5:\n",
    "    print(counter)\n",
    "    counter += 1"
   ],
   "id": "a6951615f7e66b00",
   "outputs": [],
   "execution_count": null
  },
  {
   "metadata": {},
   "cell_type": "markdown",
   "source": "## For",
   "id": "66ae78f5389c7cab"
  },
  {
   "metadata": {},
   "cell_type": "markdown",
   "source": "`for` runs the contained code block as long as there is data available. It iterates over a sequence. (A little different than what other programming languages do)",
   "id": "465c8001c751ed6f"
  },
  {
   "metadata": {},
   "cell_type": "markdown",
   "source": "",
   "id": "35474322bafc3def"
  },
  {
   "metadata": {},
   "cell_type": "code",
   "source": [
    "a = [1, 2, 3, 4, 5]\n",
    "for i in a:\n",
    "    print(i)\n"
   ],
   "id": "4651ae6e02996b0d",
   "outputs": [],
   "execution_count": null
  },
  {
   "metadata": {},
   "cell_type": "markdown",
   "source": "**Exercise** *: Print all even numbers from 0 to 10",
   "id": "140712d01202c81e"
  },
  {
   "metadata": {},
   "cell_type": "code",
   "source": "",
   "id": "66e2fc874042658",
   "outputs": [],
   "execution_count": null
  },
  {
   "metadata": {},
   "cell_type": "markdown",
   "source": "**Exercise** **: Calculate the sum of numbers from a list:\n",
   "id": "abe8cfa2ecd31451"
  },
  {
   "metadata": {},
   "cell_type": "code",
   "source": [
    "a = [1, 2, 3, 4, 5, 99, 23, 45, 67]\n",
    "sum = ?\n",
    "for i in a:\n",
    "    ..."
   ],
   "id": "289c0ba3f498ebb2",
   "outputs": [],
   "execution_count": null
  },
  {
   "metadata": {},
   "cell_type": "markdown",
   "source": "**Exercise** ***: Put the float point precision example ($x = 0.1$ $x = 11x - 1$) from last lecture in a loop to print the results 30 times, explain what is happening.:",
   "id": "5280630f30288767"
  },
  {
   "metadata": {},
   "cell_type": "code",
   "source": [
    "x = 0.1\n",
    "\n",
    "# todo loop around there 30 times\n",
    "x = 11 * x - 1\n",
    "print(x)"
   ],
   "id": "de0812c250a73360",
   "outputs": [],
   "execution_count": null
  },
  {
   "metadata": {},
   "cell_type": "markdown",
   "source": "## Useful helper functions - range",
   "id": "d80561a36269c886"
  },
  {
   "metadata": {},
   "cell_type": "markdown",
   "source": "With `range` you can create ranges of numbers between a given start and stop value with a specified step size. While this returns a 'generator' object, for all our intents and purposes, they handle the same as lists.",
   "id": "dbfc443f970f6543"
  },
  {
   "metadata": {},
   "cell_type": "code",
   "source": [
    "# range(start, stop, step)\n",
    "a  = range(0, 10, 1)\n",
    "print(a)\n",
    "print(list(a))"
   ],
   "id": "4561bc86061115b1",
   "outputs": [],
   "execution_count": null
  },
  {
   "metadata": {},
   "cell_type": "markdown",
   "source": "The default step size if none is specified is 1",
   "id": "ade234ad4f8e3682"
  },
  {
   "metadata": {},
   "cell_type": "code",
   "source": [
    "a  = range(0, 10)\n",
    "print(list(a))"
   ],
   "id": "7ad64b8739f30a0b",
   "outputs": [],
   "execution_count": null
  },
  {
   "metadata": {},
   "cell_type": "markdown",
   "source": "The default start is 0",
   "id": "394121cff2405f22"
  },
  {
   "metadata": {},
   "cell_type": "code",
   "source": [
    "a  = range(10)\n",
    "print(list(a))"
   ],
   "id": "d84a9c5a341597c2",
   "outputs": [],
   "execution_count": null
  },
  {
   "metadata": {},
   "cell_type": "markdown",
   "source": "**Exercise** *: Find the bug:",
   "id": "5712cbd854f1bf81"
  },
  {
   "metadata": {},
   "cell_type": "code",
   "source": [
    "for x in range(0,1,100):\n",
    "    print(f'{100-x} bottles of beer on the wall.')\n",
    "    print('Take one down, pass it around.')"
   ],
   "id": "ecf82a3b7d6636db",
   "outputs": [],
   "execution_count": null
  },
  {
   "metadata": {},
   "cell_type": "markdown",
   "source": "## Loop control statements",
   "id": "fde7dc4a0e9648e2"
  },
  {
   "metadata": {},
   "cell_type": "markdown",
   "source": "There are loop control statements such as `break` that interrupt the loop when called and continue with the code outside this loop, and `continue` will stop executing this loops code block and continue with the next iterration.",
   "id": "52b9976ea5ffc270"
  },
  {
   "metadata": {},
   "cell_type": "code",
   "source": [
    "for i in range(0,10):\n",
    "    if i > 5:\n",
    "        break\n",
    "    print(i)"
   ],
   "id": "f883fc08b85621b5",
   "outputs": [],
   "execution_count": null
  },
  {
   "metadata": {},
   "cell_type": "code",
   "source": [
    "for i in range(0,10):\n",
    "    if i == 5:\n",
    "        continue\n",
    "    print(i)"
   ],
   "id": "d96d23716b360cdf",
   "outputs": [],
   "execution_count": null
  },
  {
   "metadata": {},
   "cell_type": "markdown",
   "source": "**Exercise** *: Finish the code for the loop below so that it skips 5 and stops at 7:",
   "id": "7267b0dcf3476f89"
  },
  {
   "metadata": {},
   "cell_type": "code",
   "source": [
    "for i in range(0,10):\n",
    "    if i == 5:\n",
    "        ?\n",
    "    if i > 7:\n",
    "        ?\n",
    "    print(i)"
   ],
   "id": "959af6adb00dd4a8",
   "outputs": [],
   "execution_count": null
  },
  {
   "metadata": {},
   "cell_type": "markdown",
   "source": "**Exercise** **: Write a function that outputs all even numbers in a given list, and stops early if it encounters 99 in the list",
   "id": "47cd6ac1180012a4"
  },
  {
   "metadata": {},
   "cell_type": "code",
   "source": [
    "def even_numbers_in_list(a):\n",
    "    "
   ],
   "id": "80592c73fa8e9803",
   "outputs": [],
   "execution_count": null
  },
  {
   "metadata": {},
   "cell_type": "markdown",
   "source": "## Things not to do in loops",
   "id": "f05745c11379dd4a"
  },
  {
   "metadata": {},
   "cell_type": "markdown",
   "source": "Modifications of the datastructure you are currently iterating over have to be performed with care.",
   "id": "faae4a32b6e90623"
  },
  {
   "metadata": {},
   "cell_type": "markdown",
   "source": "If the objects inside the structure are mutable, you can modify them. This isnt really modifying the datastructure itself, but the items as long as the object (item) stays the same -> mutability.",
   "id": "6a87ba211443a6bf"
  },
  {
   "metadata": {},
   "cell_type": "code",
   "source": [
    "a = [[1], [2], [3], [4]]\n",
    "for i in a:\n",
    "    i.append(5)\n",
    "print(a)"
   ],
   "id": "b00e9aaeea40ea2f",
   "outputs": [],
   "execution_count": null
  },
  {
   "metadata": {},
   "cell_type": "markdown",
   "source": "However, this become tricky at some point, as you cannot switch the item out to be something different, it has to stay the same object.",
   "id": "c0abd4e5be5f6e6c"
  },
  {
   "metadata": {},
   "cell_type": "code",
   "source": [
    "a = [[1], [2], [3], [4]]\n",
    "for i in a:\n",
    "    i = 5\n",
    "print(a)"
   ],
   "id": "c458ff6085360a4e",
   "outputs": [],
   "execution_count": null
  },
  {
   "metadata": {},
   "cell_type": "markdown",
   "source": "Modifying the datastructure itself, adding or removing items, or replacing the whole datastructure while iterating is of course going to cause weird results or even break stuff.",
   "id": "4f43b779b8660486"
  },
  {
   "metadata": {},
   "cell_type": "code",
   "source": [
    "a = [[1], [2], [3], [4]]\n",
    "for i in a:\n",
    "    print(i)\n",
    "    a = 5\n",
    "print(a)"
   ],
   "id": "1e5edb21c999027c",
   "outputs": [],
   "execution_count": null
  },
  {
   "metadata": {},
   "cell_type": "markdown",
   "source": "**Exercise** ***: Fix this bug - While this looks like it should remove all round numbers, it doesnt work.",
   "id": "4cbef81dbacb696c"
  },
  {
   "metadata": {},
   "cell_type": "code",
   "source": [
    "a = [1, 2, 2, 3, 4, 4, 4, 5, 6, 7, 8, 9 ,10]\n",
    "for i in a:\n",
    "    if i % 2 == 0:\n",
    "        a.remove(i)\n",
    "print(a)"
   ],
   "id": "e835bd096f9adaf4",
   "outputs": [],
   "execution_count": null
  },
  {
   "metadata": {},
   "cell_type": "code",
   "source": "",
   "id": "e8926aac0e9bf310",
   "outputs": [],
   "execution_count": null
  }
 ],
 "metadata": {
  "kernelspec": {
   "display_name": "Python 3",
   "language": "python",
   "name": "python3"
  },
  "language_info": {
   "codemirror_mode": {
    "name": "ipython",
    "version": 2
   },
   "file_extension": ".py",
   "mimetype": "text/x-python",
   "name": "python",
   "nbconvert_exporter": "python",
   "pygments_lexer": "ipython2",
   "version": "2.7.6"
  }
 },
 "nbformat": 4,
 "nbformat_minor": 5
}
