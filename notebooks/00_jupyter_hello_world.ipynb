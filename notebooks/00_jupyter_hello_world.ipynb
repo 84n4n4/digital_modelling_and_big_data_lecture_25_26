{
 "cells": [
  {
   "cell_type": "code",
   "id": "c18c78fa-e27e-4004-bf82-58efd47291bb",
   "metadata": {
    "ExecuteTime": {
     "end_time": "2024-10-01T13:28:10.483896Z",
     "start_time": "2024-10-01T13:28:10.479290Z"
    }
   },
   "source": [
    "# this is a comment\n",
    "print('Hello World')"
   ],
   "outputs": [
    {
     "name": "stdout",
     "output_type": "stream",
     "text": [
      "Hello World\n"
     ]
    }
   ],
   "execution_count": 2
  },
  {
   "metadata": {},
   "cell_type": "code",
   "outputs": [],
   "execution_count": null,
   "source": "",
   "id": "1bfbec9962c8c8c8"
  }
 ],
 "metadata": {
  "kernelspec": {
   "display_name": "Python 3 (Spyder)",
   "language": "python3",
   "name": "python3"
  },
  "language_info": {
   "codemirror_mode": {
    "name": "ipython",
    "version": 3
   },
   "file_extension": ".py",
   "mimetype": "text/x-python",
   "name": "python",
   "nbconvert_exporter": "python",
   "pygments_lexer": "ipython3",
   "version": "3.11.9"
  }
 },
 "nbformat": 4,
 "nbformat_minor": 5
}
