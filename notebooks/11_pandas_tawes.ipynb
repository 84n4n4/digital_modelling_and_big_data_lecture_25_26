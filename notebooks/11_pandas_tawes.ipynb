{
 "cells": [
  {
   "cell_type": "markdown",
   "id": "ca22802d3a89edc5",
   "metadata": {},
   "source": [
    "# Real world data - TAWES"
   ]
  },
  {
   "cell_type": "markdown",
   "id": "e13e8485f04fb928",
   "metadata": {},
   "source": [
    "## Tawes weather data example"
   ]
  },
  {
   "cell_type": "markdown",
   "id": "cbf954296ae85116",
   "metadata": {},
   "source": [
    "Tawes weather data for kapfenberg from 1997 to 2018 is in `data/tawes/Messstationen Tagesdaten v2 Datensatz_19970101_20241001_kapfenberg.csv`.\n",
    "CSV (Comma Separated Value) files can be read with pandas (amongst many other file formats)."
   ]
  },
  {
   "cell_type": "code",
   "execution_count": null,
   "id": "223a0ab54fd6b2e1",
   "metadata": {},
   "outputs": [],
   "source": [
    "import pandas\n",
    "df = pandas.read_csv('../data/tawes/Messstationen Tagesdaten v2 Datensatz_19970101_20241001_kapfenberg.csv')\n",
    "df.head()"
   ]
  },
  {
   "cell_type": "markdown",
   "id": "1bad73c305a073b5",
   "metadata": {},
   "source": [
    "rr is sum percipitation for the whole day, cglo_j is global irradiance, tl_mittel is average air temperature, tlmin and tlmax are the respective temperature extrema on these days, vv_mittel is average wind speed, p_mittel is average air pressure.\n",
    "However, there are no values. NaN is short for Not A Number. And if there is no value in this row (that is otherwise numeric in nature) it simple fills it with this NaN indicator.\n",
    "The first row in the csv file looks like this:\n",
    "`1997-01-01T00:00+00:00,13305,,,,,`\n",
    "because the weather station started being operational only later that year, and only been operational until 2018."
   ]
  },
  {
   "cell_type": "markdown",
   "id": "d13dd097d4a47669",
   "metadata": {},
   "source": [
    "So how to get rid of those NaNs?\n"
   ]
  },
  {
   "cell_type": "code",
   "execution_count": null,
   "id": "c6f26ee6281ee4f1",
   "metadata": {},
   "outputs": [],
   "source": [
    "df.dropna().head()"
   ]
  },
  {
   "cell_type": "markdown",
   "id": "7faa1c9f0fa34b64",
   "metadata": {},
   "source": [
    "This however drops all rows that contain a NaN in any place. clgo was not available until later (2002) so we loose a lot of data. We want to know at least when all temperature values were available)"
   ]
  },
  {
   "cell_type": "code",
   "execution_count": null,
   "id": "5401fb906d43c9af",
   "metadata": {},
   "outputs": [],
   "source": [
    "df.dropna(subset=['tl_mittel', 'tlmax', 'tlmin']).head()"
   ]
  },
  {
   "cell_type": "code",
   "execution_count": null,
   "id": "ce97e497c86dab7a",
   "metadata": {},
   "outputs": [],
   "source": [
    "df.dropna(subset=['tl_mittel', 'tlmax', 'tlmin']).tail()"
   ]
  },
  {
   "cell_type": "markdown",
   "id": "dfabfe9dc66a6138",
   "metadata": {},
   "source": [
    "So from row 1826 until row 7810 seems to represent the time that the weather station was operational. We can simply slice the dataframe like we would a python list object."
   ]
  },
  {
   "cell_type": "code",
   "execution_count": null,
   "id": "165afaa4c86dd38",
   "metadata": {},
   "outputs": [],
   "source": [
    "df = df[59:7811]"
   ]
  },
  {
   "cell_type": "markdown",
   "id": "6361d718aa6be17b",
   "metadata": {},
   "source": [
    "There are more elaborate ways to go about this, including not accessing the DataFrame using row indices, but using the time as index, but more on that later."
   ]
  },
  {
   "cell_type": "code",
   "execution_count": null,
   "id": "84f129630839efd0",
   "metadata": {},
   "outputs": [],
   "source": [
    "df\n"
   ]
  },
  {
   "cell_type": "markdown",
   "id": "f70eb7889a1e4203",
   "metadata": {},
   "source": [
    "## Accessing columns"
   ]
  },
  {
   "cell_type": "markdown",
   "id": "8e42d014b671748b",
   "metadata": {},
   "source": [
    "One can access separate columns (can be multiple) like we would with a dictionary:"
   ]
  },
  {
   "cell_type": "code",
   "execution_count": null,
   "id": "cedffcc8d38c05d3",
   "metadata": {},
   "outputs": [],
   "source": [
    "df['tl_mittel']"
   ]
  },
  {
   "cell_type": "code",
   "execution_count": null,
   "id": "7a67c9547fcb284b",
   "metadata": {},
   "outputs": [],
   "source": [
    "df[['tl_mittel', 'tlmin', 'tlmax']]"
   ]
  },
  {
   "cell_type": "markdown",
   "id": "9c58cbc315b3a07f",
   "metadata": {},
   "source": [
    "## Basic maths operations"
   ]
  },
  {
   "cell_type": "markdown",
   "id": "dd2aab1a31003d71",
   "metadata": {},
   "source": [
    "Lets do some basic operations. Make a new column with the temperature differential tlmax - tmin."
   ]
  },
  {
   "cell_type": "code",
   "execution_count": null,
   "id": "263266fd45621768",
   "metadata": {},
   "outputs": [],
   "source": [
    "df['tl_diff'] = df['tlmax'] - df['tlmin']\n",
    "df.head()"
   ]
  },
  {
   "cell_type": "markdown",
   "id": "af0dc3d55f004ca0",
   "metadata": {},
   "source": [
    "**Exercise** *: Create a new column named 'freezing' that contains True if the min temparature was below 0 and False otherwise."
   ]
  },
  {
   "cell_type": "code",
   "execution_count": null,
   "id": "fc48a781df623682",
   "metadata": {},
   "outputs": [],
   "source": []
  },
  {
   "cell_type": "markdown",
   "id": "da1b3c2a6690510f",
   "metadata": {},
   "source": [
    "**Exercise** **: Instead of True and False this freezing column should contain 1 and 0 (1 if True, 0 if False)"
   ]
  },
  {
   "cell_type": "code",
   "execution_count": null,
   "id": "6829041c792d755b",
   "metadata": {},
   "outputs": [],
   "source": []
  },
  {
   "cell_type": "markdown",
   "id": "d803c5f98bacf724",
   "metadata": {},
   "source": [
    "## Basic stats"
   ]
  },
  {
   "cell_type": "markdown",
   "id": "1a91c79741a1b904",
   "metadata": {},
   "source": [
    "Get some basic statistics on the data using describe()."
   ]
  },
  {
   "cell_type": "code",
   "execution_count": null,
   "id": "6751b4af7a71a8a0",
   "metadata": {},
   "outputs": [],
   "source": [
    "df.describe()"
   ]
  },
  {
   "cell_type": "markdown",
   "id": "82d080c702c51f58",
   "metadata": {},
   "source": [
    "## Conditional slicing, finding and counting occurrences"
   ]
  },
  {
   "cell_type": "markdown",
   "id": "73660ff4a67d59fe",
   "metadata": {},
   "source": [
    "When was the coldest day in Kapfenberg? We can see above that tlmin had a lowest value of -20, but when?\n",
    "We can use conditions that evaluate to true or false (like the freezing one above) as indexers."
   ]
  },
  {
   "cell_type": "code",
   "execution_count": null,
   "id": "8f9d1aa99a8ec97d",
   "metadata": {},
   "outputs": [],
   "source": [
    "df['tlmin'] == -20.0"
   ]
  },
  {
   "cell_type": "code",
   "execution_count": null,
   "id": "43f0efd0dc740b8",
   "metadata": {},
   "outputs": [],
   "source": [
    "df[df['tlmin'] == -20.0]\n"
   ]
  },
  {
   "cell_type": "markdown",
   "id": "a0b49af0e7e69dc9",
   "metadata": {},
   "source": [
    "We can use this to select whole ranges of data where some condition applies. E.g. select all data where it was freezing."
   ]
  },
  {
   "cell_type": "code",
   "execution_count": null,
   "id": "e70258c222019e32",
   "metadata": {},
   "outputs": [],
   "source": [
    "df['freezing'] = (df['tlmin'] < 0).astype(int)\n",
    "df[df['freezing'] == 1]"
   ]
  },
  {
   "cell_type": "markdown",
   "id": "97445fb2fbf18d8b",
   "metadata": {},
   "source": [
    "We can use value_counts to see what value occurs how often in the dataframe."
   ]
  },
  {
   "cell_type": "code",
   "execution_count": null,
   "id": "a2225c0656804dca",
   "metadata": {},
   "outputs": [],
   "source": [
    "df['freezing'].value_counts()"
   ]
  },
  {
   "cell_type": "markdown",
   "id": "2d8881a487567323",
   "metadata": {},
   "source": [
    "**Exercise** **: How many days were the temperature was always freezing (look at tlmax) and what percentage of the time does this represent."
   ]
  },
  {
   "cell_type": "code",
   "execution_count": null,
   "id": "7af5d74810c854ef",
   "metadata": {},
   "outputs": [],
   "source": []
  },
  {
   "cell_type": "markdown",
   "id": "27de935586512a24",
   "metadata": {},
   "source": [
    "## Time indexed DataFrames"
   ]
  },
  {
   "cell_type": "markdown",
   "id": "c48287648641aa08",
   "metadata": {},
   "source": [
    "Pandas supports datetime indices"
   ]
  },
  {
   "cell_type": "code",
   "execution_count": null,
   "id": "451dd740a0ee9d2c",
   "metadata": {},
   "outputs": [],
   "source": [
    "df['time'] = pandas.to_datetime(df['time'], utc=True)\n",
    "df = df.set_index('time', drop=True)"
   ]
  },
  {
   "cell_type": "code",
   "execution_count": null,
   "id": "da77dc46bf6b8462",
   "metadata": {},
   "outputs": [],
   "source": [
    "df.head()\n"
   ]
  },
  {
   "cell_type": "markdown",
   "id": "bd3ba934929d6960",
   "metadata": {},
   "source": [
    "Now we can index rows based on times."
   ]
  },
  {
   "cell_type": "code",
   "execution_count": null,
   "id": "1261ae1429b494ee",
   "metadata": {},
   "outputs": [],
   "source": [
    "df['2011-03-01 00:00': '2011-03-02 00:00']"
   ]
  },
  {
   "cell_type": "markdown",
   "id": "bbaa89815a275edb",
   "metadata": {},
   "source": [
    "We can now resample the dataframe to some other resolution. Resampling to a lower frequency is called downsampling, to a higher frequency this is called upsampling.\n",
    "\n",
    "When resampling, one has to specify a frequency and a method.\n",
    "\n",
    "For example yearly avarages:\n"
   ]
  },
  {
   "cell_type": "code",
   "execution_count": null,
   "id": "5954f49c72524bd3",
   "metadata": {},
   "outputs": [],
   "source": [
    "df.resample('1YS').mean() "
   ]
  },
  {
   "cell_type": "markdown",
   "id": "e70b56706e08af20",
   "metadata": {},
   "source": [
    "We can also resample to a higher frequency than the original data.\n",
    "\n",
    "For example upsampling to hourly frequency while using linear interpolation."
   ]
  },
  {
   "cell_type": "code",
   "execution_count": null,
   "id": "42d833620e56b255",
   "metadata": {},
   "outputs": [],
   "source": [
    "small_df = df['2011-03-01 00:00': '2011-03-07 00:00'].copy() \n",
    "small_df.resample('1h').interpolate()\n"
   ]
  },
  {
   "cell_type": "markdown",
   "id": "fd8f8aeffcadca50",
   "metadata": {},
   "source": [
    "**Exercise** **: Ressample the 'freezing' column to yearly frequency providing not the mean (as in the examples above) but the sum within each year."
   ]
  },
  {
   "cell_type": "code",
   "execution_count": null,
   "id": "6dae9cfffb530ce4",
   "metadata": {},
   "outputs": [],
   "source": []
  },
  {
   "cell_type": "markdown",
   "id": "a7d4098b7fba4e07",
   "metadata": {},
   "source": []
  }
 ],
 "metadata": {
  "kernelspec": {
   "display_name": "Python [conda env:base] *",
   "language": "python",
   "name": "conda-base-py"
  },
  "language_info": {
   "codemirror_mode": {
    "name": "ipython",
    "version": 3
   },
   "file_extension": ".py",
   "mimetype": "text/x-python",
   "name": "python",
   "nbconvert_exporter": "python",
   "pygments_lexer": "ipython3",
   "version": "3.12.7"
  }
 },
 "nbformat": 4,
 "nbformat_minor": 5
}
