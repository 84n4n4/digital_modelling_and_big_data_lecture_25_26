{
 "cells": [
  {
   "metadata": {},
   "cell_type": "markdown",
   "source": "# ML Regression",
   "id": "c7d0a40ce02ac7ca"
  },
  {
   "metadata": {},
   "cell_type": "code",
   "source": [
    "import matplotlib.pyplot as plt\n",
    "import numpy as np\n",
    "\n",
    "from sklearn.linear_model import LinearRegression\n",
    "from sklearn.metrics import mean_squared_error\n"
   ],
   "id": "492d3844336d98a2",
   "outputs": [],
   "execution_count": null
  },
  {
   "metadata": {},
   "cell_type": "markdown",
   "source": "## Create a random dataset",
   "id": "723009abbbbd37be"
  },
  {
   "metadata": {},
   "cell_type": "code",
   "source": [
    "np.random.seed(42)\n",
    "num_samples = 50\n",
    "X = np.random.choice(np.linspace(0, 1000, 10000), num_samples).reshape(-1, 1)\n",
    "y = 2 + 1.5 * X\n",
    "y += np.random.normal(scale=250, size=y.shape)\n",
    "plt.scatter(X, y)\n"
   ],
   "id": "initial_id",
   "outputs": [],
   "execution_count": null
  },
  {
   "metadata": {},
   "cell_type": "markdown",
   "source": [
    "## Instantiate a regressor\n",
    "For example a Linear regression model"
   ],
   "id": "35f79d4c3aa4ccaa"
  },
  {
   "metadata": {},
   "cell_type": "code",
   "source": "rg = LinearRegression()",
   "id": "7dcce6726332ee26",
   "outputs": [],
   "execution_count": null
  },
  {
   "metadata": {},
   "cell_type": "markdown",
   "source": [
    "## Train the regressor\n",
    "Using the `fit` function on the data we want to train the classifier on."
   ],
   "id": "45eae9a03c06ae55"
  },
  {
   "metadata": {},
   "cell_type": "code",
   "source": "rg.fit(X, y)",
   "id": "f4487e10ceac4512",
   "outputs": [],
   "execution_count": null
  },
  {
   "metadata": {},
   "cell_type": "markdown",
   "source": [
    "## Predict something using the trained regressor\n",
    "Using the `predict` function of it."
   ],
   "id": "35fef6d94f411bd3"
  },
  {
   "metadata": {},
   "cell_type": "code",
   "source": "y_pred = rg.predict(X)",
   "id": "f97eaa340bb6fd10",
   "outputs": [],
   "execution_count": null
  },
  {
   "metadata": {},
   "cell_type": "markdown",
   "source": [
    "## Measure its performance\n",
    "By comparing the true values (y) with the predicted ones (y_pred)"
   ],
   "id": "17b1326eed7b4f1a"
  },
  {
   "metadata": {},
   "cell_type": "code",
   "source": "print(mean_squared_error(y, y_pred))",
   "id": "21b548c47b7d1f81",
   "outputs": [],
   "execution_count": null
  },
  {
   "metadata": {},
   "cell_type": "code",
   "source": [
    "\n",
    "plt.scatter(X, y, color=\"blue\")\n",
    "plt.scatter(X, y_pred, color=\"red\")\n",
    "plt.show()"
   ],
   "id": "224de6eaec8131d1",
   "outputs": [],
   "execution_count": null
  },
  {
   "metadata": {},
   "cell_type": "markdown",
   "source": "**Exercise** *: Get the R2, MAE and MAPE scores of this models predictions.",
   "id": "de39668259a4db56"
  },
  {
   "metadata": {},
   "cell_type": "code",
   "outputs": [],
   "execution_count": null,
   "source": "",
   "id": "d64810862d931619"
  },
  {
   "metadata": {},
   "cell_type": "markdown",
   "source": "**Exercise** **: Train a random forest regressor instead of the linear regression regressor above and measure its performance.\n",
   "id": "79920808a0c68b4e"
  },
  {
   "metadata": {},
   "cell_type": "code",
   "outputs": [],
   "execution_count": null,
   "source": "",
   "id": "77343c7b26bc06d6"
  },
  {
   "metadata": {},
   "cell_type": "markdown",
   "source": "**Exercise** **: Train a support vector machine regressor instead of the linear regressor above and measure its performance.",
   "id": "78a8b50a8c36a77e"
  },
  {
   "metadata": {},
   "cell_type": "code",
   "outputs": [],
   "execution_count": null,
   "source": "",
   "id": "e4719f70458a2d9e"
  }
 ],
 "metadata": {
  "kernelspec": {
   "display_name": "Python 3",
   "language": "python",
   "name": "python3"
  },
  "language_info": {
   "codemirror_mode": {
    "name": "ipython",
    "version": 2
   },
   "file_extension": ".py",
   "mimetype": "text/x-python",
   "name": "python",
   "nbconvert_exporter": "python",
   "pygments_lexer": "ipython2",
   "version": "2.7.6"
  }
 },
 "nbformat": 4,
 "nbformat_minor": 5
}
