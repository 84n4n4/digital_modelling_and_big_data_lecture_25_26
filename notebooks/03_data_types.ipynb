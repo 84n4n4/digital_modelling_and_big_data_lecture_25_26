{
 "cells": [
  {
   "metadata": {},
   "cell_type": "markdown",
   "source": "# Basic data types",
   "id": "47165c97e39d135c"
  },
  {
   "metadata": {},
   "cell_type": "markdown",
   "source": "There are various built in data types in python.",
   "id": "abab0c3fde61024a"
  },
  {
   "metadata": {},
   "cell_type": "markdown",
   "source": "int are positive natural numbers, the negations of natural numbers, and zero.",
   "id": "24afd47bb3d15a57"
  },
  {
   "metadata": {},
   "cell_type": "code",
   "source": "type(5)",
   "id": "ba96b29b743d4c40",
   "outputs": [],
   "execution_count": null
  },
  {
   "metadata": {},
   "cell_type": "markdown",
   "source": "In contrast to many other programming languages (and the older Python 2), there is no size limit for integers, aside from available memory.",
   "id": "d60c974f2c3bc7f0"
  },
  {
   "metadata": {},
   "cell_type": "code",
   "source": "13**400",
   "id": "7681d0747ecba0c",
   "outputs": [],
   "execution_count": null
  },
  {
   "metadata": {},
   "cell_type": "markdown",
   "source": "float are Pythons data type for numbers that are not integers and have a decimal point.",
   "id": "35d27b1ddd5803a5"
  },
  {
   "metadata": {},
   "cell_type": "code",
   "source": "type(10/3)",
   "id": "72da5d6cad6f2e50",
   "outputs": [],
   "execution_count": null
  },
  {
   "metadata": {},
   "cell_type": "markdown",
   "source": "Floats can be written also in exponent format as powers of 10, e.g. $2 \\times 10^{3} = 2000$",
   "id": "750dbf7292de114b"
  },
  {
   "metadata": {},
   "cell_type": "code",
   "source": "2e3",
   "id": "6bca478c739bc6a8",
   "outputs": [],
   "execution_count": null
  },
  {
   "metadata": {},
   "cell_type": "markdown",
   "source": "However, in comparison to int, floats do have a size limit, and therefore also a limit in precision.",
   "id": "366593840f021e5"
  },
  {
   "metadata": {},
   "cell_type": "code",
   "source": [
    "print(13e400)\n",
    "print(13e-400)"
   ],
   "id": "86d5e52a21286a34",
   "outputs": [],
   "execution_count": null
  },
  {
   "metadata": {},
   "cell_type": "code",
   "source": "type(True)",
   "id": "1e7d3f1ac8fde849",
   "outputs": [],
   "execution_count": null
  },
  {
   "metadata": {},
   "cell_type": "code",
   "source": "type('Hello World')",
   "id": "d65db90b496e21b4",
   "outputs": [],
   "execution_count": null
  },
  {
   "metadata": {},
   "cell_type": "code",
   "source": "type(\"Hello World\")",
   "id": "7cfe15b3b7ef6886",
   "outputs": [],
   "execution_count": null
  },
  {
   "metadata": {},
   "cell_type": "code",
   "source": [
    "type('''\n",
    "Hello\n",
    "\n",
    "world\n",
    "''')"
   ],
   "id": "e037080769ade54b",
   "outputs": [],
   "execution_count": null
  },
  {
   "metadata": {},
   "cell_type": "markdown",
   "source": "The datatype determines what it can represent and what operations can be performed. The operations can output a different type than what has been put in.",
   "id": "c0565fccf6af1935"
  },
  {
   "metadata": {},
   "cell_type": "code",
   "source": "type(5 + 10/3)",
   "id": "2c0a40011c9e94b8",
   "outputs": [],
   "execution_count": null
  },
  {
   "metadata": {},
   "cell_type": "code",
   "source": "5 + 'Hello'",
   "id": "9a9019089f0e5ece",
   "outputs": [],
   "execution_count": null
  },
  {
   "metadata": {},
   "cell_type": "code",
   "source": "'Hello' + 'World'",
   "id": "75e9bdb2609d3b67",
   "outputs": [],
   "execution_count": null
  },
  {
   "metadata": {},
   "cell_type": "markdown",
   "source": "However, using operators that arent intended for the data type sometimes do work, but provide weird results.",
   "id": "e8e088f55aa7164e"
  },
  {
   "metadata": {},
   "cell_type": "code",
   "source": "'Hello' and 'World'",
   "id": "ff0b6abee0748e0a",
   "outputs": [],
   "execution_count": null
  },
  {
   "metadata": {},
   "cell_type": "markdown",
   "source": "There is also a data type that represents 'Nothingness', the None type.",
   "id": "de65ef71c43fcc5a"
  },
  {
   "metadata": {},
   "cell_type": "code",
   "source": "type(None)",
   "id": "daeffd72f101fd6d",
   "outputs": [],
   "execution_count": null
  },
  {
   "metadata": {},
   "cell_type": "code",
   "source": "5 + None",
   "id": "47bb836070b60b5e",
   "outputs": [],
   "execution_count": null
  },
  {
   "metadata": {},
   "cell_type": "markdown",
   "source": "**Exercise** *: Try to guess what types the following are (and then check if you were right:",
   "id": "3a629a8d0148738d"
  },
  {
   "metadata": {},
   "cell_type": "code",
   "source": "# 4 / 2",
   "id": "60713232117ff0fc",
   "outputs": [],
   "execution_count": null
  },
  {
   "metadata": {},
   "cell_type": "code",
   "source": "# 2 * 1",
   "id": "2eef2ef7df8747b1",
   "outputs": [],
   "execution_count": null
  },
  {
   "metadata": {},
   "cell_type": "code",
   "source": "# 2 * 1.",
   "id": "510db70b8538c8b5",
   "outputs": [],
   "execution_count": null
  },
  {
   "metadata": {},
   "cell_type": "code",
   "source": "# 3 + 2j",
   "id": "fbc238cc656560e0",
   "outputs": [],
   "execution_count": null
  },
  {
   "metadata": {},
   "cell_type": "code",
   "source": "# \"Hello World\"",
   "id": "d40bad3e82d11280",
   "outputs": [],
   "execution_count": null
  },
  {
   "metadata": {},
   "cell_type": "code",
   "source": "# \"\"\"Hello World\"\"\"",
   "id": "a370cb7c3d1953f6",
   "outputs": [],
   "execution_count": null
  },
  {
   "metadata": {},
   "cell_type": "code",
   "source": "# 'Hello World'",
   "id": "d727e47e4d6557b2",
   "outputs": [],
   "execution_count": null
  },
  {
   "metadata": {},
   "cell_type": "code",
   "source": "# 0x2",
   "id": "9df05535755b5641",
   "outputs": [],
   "execution_count": null
  },
  {
   "metadata": {},
   "cell_type": "code",
   "source": "# 0xf",
   "id": "ba4bb976d6830a6",
   "outputs": [],
   "execution_count": null
  },
  {
   "metadata": {},
   "cell_type": "markdown",
   "source": "# Data Structures",
   "id": "9e34a4a47c36f90d"
  },
  {
   "metadata": {},
   "cell_type": "markdown",
   "source": [
    "## Lists\n",
    "Lists are a sequence of arbitrary items. Items within the list can be accessed via their position, therefore the order of items in the list is important."
   ],
   "id": "2ed15b985c43d6b"
  },
  {
   "metadata": {},
   "cell_type": "code",
   "source": "[1, 2, 3, 4, 5]",
   "id": "698bb89b3033273d",
   "outputs": [],
   "execution_count": null
  },
  {
   "metadata": {},
   "cell_type": "code",
   "source": "type([1, 2, 3, 4, 5])",
   "id": "37f1ec67bb9bb5c",
   "outputs": [],
   "execution_count": null
  },
  {
   "metadata": {},
   "cell_type": "markdown",
   "source": "Items can be accessed via their index, starting with the first element at position 0",
   "id": "ec6700c854fa1caa"
  },
  {
   "metadata": {},
   "cell_type": "code",
   "source": [
    "a = [11, 12, 13, 14, 15]\n",
    "print(a[0])"
   ],
   "id": "92cdd64d33f054e7",
   "outputs": [],
   "execution_count": null
  },
  {
   "metadata": {},
   "cell_type": "code",
   "source": [
    "a = [11, 12, 13, 14, 15]\n",
    "print(a[37])"
   ],
   "id": "8482036e45f2b86c",
   "outputs": [],
   "execution_count": null
  },
  {
   "metadata": {},
   "cell_type": "code",
   "source": [
    "a = [11, 12, 13, 14, 15]\n",
    "a[0] = 22\n",
    "print(a)"
   ],
   "id": "4cd7c977f3d4f39f",
   "outputs": [],
   "execution_count": null
  },
  {
   "metadata": {},
   "cell_type": "markdown",
   "source": "Negative indices provide access to the items counting from the end of the list",
   "id": "80aa10f3a0a65c9"
  },
  {
   "metadata": {},
   "cell_type": "code",
   "source": [
    "a = [11, 12, 13, 14, 15]\n",
    "print(a[-1])\n",
    "print(a[-2])"
   ],
   "id": "3b397771ca738707",
   "outputs": [],
   "execution_count": null
  },
  {
   "metadata": {},
   "cell_type": "markdown",
   "source": "Lists can be sliced using the colon operator ':', given a start and end index",
   "id": "d777d9d20c6a9fa0"
  },
  {
   "metadata": {},
   "cell_type": "code",
   "source": [
    "a = [11, 12, 13, 14, 15]\n",
    "print(a[1:4])"
   ],
   "id": "1fc50a29955f33db",
   "outputs": [],
   "execution_count": null
  },
  {
   "metadata": {},
   "cell_type": "markdown",
   "source": "The slice indices are optional, omitting e.g. the first one will return everyting from the start up to the end index",
   "id": "863482e25b4f203d"
  },
  {
   "metadata": {},
   "cell_type": "code",
   "source": [
    "a = [11, 12, 13, 14, 15]\n",
    "print(a[:4])"
   ],
   "id": "5cc496a2aea280ef",
   "outputs": [],
   "execution_count": null
  },
  {
   "metadata": {},
   "cell_type": "markdown",
   "source": "Lists can contain a mixture of types as items.",
   "id": "381187f2d83299fd"
  },
  {
   "metadata": {},
   "cell_type": "code",
   "source": [
    "a = [1, 2, None, '3', 4.33, 'Hello', [4, 5, 6]]\n",
    "print(a)"
   ],
   "id": "550d1059a39841b8",
   "outputs": [],
   "execution_count": null
  },
  {
   "metadata": {},
   "cell_type": "markdown",
   "source": "List objects have a number of methods that you can use.",
   "id": "263ae390b7beea24"
  },
  {
   "metadata": {},
   "cell_type": "code",
   "source": [
    "a = [1, 2, 2, 3, 4, 1]\n",
    "b = a.count(4)\n",
    "print(b)"
   ],
   "id": "ea25c105425b3063",
   "outputs": [],
   "execution_count": null
  },
  {
   "metadata": {},
   "cell_type": "code",
   "source": [
    "a = [1, 2, 2, 3, 4, 1]\n",
    "a.append(27)\n",
    "print(a)"
   ],
   "id": "9b7bbed751f6478e",
   "outputs": [],
   "execution_count": null
  },
  {
   "metadata": {},
   "cell_type": "markdown",
   "source": "And some of the basic operations work on lists.",
   "id": "e3c768acd5d04a5d"
  },
  {
   "metadata": {},
   "cell_type": "code",
   "source": [
    "a = [1, 2, 3]\n",
    "b = [4, 5, 6]\n",
    "c = a + b\n",
    "print(c)"
   ],
   "id": "d046d4d7415775cf",
   "outputs": [],
   "execution_count": null
  },
  {
   "metadata": {},
   "cell_type": "markdown",
   "source": "**Exercise** *: Given the array 'a = [1, 2, 2, 3, 4, 1]', guess what the following will return and then try out if you were correct:",
   "id": "c8cc104e53fa87c0"
  },
  {
   "metadata": {},
   "cell_type": "code",
   "source": "# a = [1, 2, 2, 3, 4, 1]",
   "id": "229968a71ba4fdf9",
   "outputs": [],
   "execution_count": null
  },
  {
   "metadata": {},
   "cell_type": "code",
   "source": "# a[-5]",
   "id": "971df7f610bace00",
   "outputs": [],
   "execution_count": null
  },
  {
   "metadata": {},
   "cell_type": "code",
   "source": "# a[None]",
   "id": "12a3c45286e9f5c0",
   "outputs": [],
   "execution_count": null
  },
  {
   "metadata": {},
   "cell_type": "code",
   "source": "# a[2:]",
   "id": "f89b4f71ab676445",
   "outputs": [],
   "execution_count": null
  },
  {
   "metadata": {},
   "cell_type": "code",
   "source": "# a[2:-1]",
   "id": "deedccf8f56e46e",
   "outputs": [],
   "execution_count": null
  },
  {
   "metadata": {},
   "cell_type": "code",
   "source": "# a[:]",
   "id": "5a1b689a88cc93dc",
   "outputs": [],
   "execution_count": null
  },
  {
   "metadata": {},
   "cell_type": "code",
   "source": "# a[2.]",
   "id": "4d9dbbe6d9bf9e47",
   "outputs": [],
   "execution_count": null
  },
  {
   "metadata": {},
   "cell_type": "markdown",
   "source": [
    "## Sets\n",
    "Sets are a collection of 'hashable' items. 'hashable' in this context means that the type at hand implements means to compare and assert equality of two items. Sets can not contain duplicates, and cannot be accessed via an index. However, they provide functionality such as intersection, union, etc."
   ],
   "id": "b2dd2d6f112a8e3b"
  },
  {
   "metadata": {},
   "cell_type": "code",
   "source": "{1, 2, 3, 4, 5, 6}",
   "id": "865ad00c681c045c",
   "outputs": [],
   "execution_count": null
  },
  {
   "metadata": {},
   "cell_type": "code",
   "source": "type({1, 2, 3, 4, 5, 6})",
   "id": "29f2ad8ca01bdfd4",
   "outputs": [],
   "execution_count": null
  },
  {
   "metadata": {},
   "cell_type": "markdown",
   "source": "Items cannot be accessed via their index.",
   "id": "6a45124eb628cc97"
  },
  {
   "metadata": {},
   "cell_type": "code",
   "source": [
    "a = {1, 2, 3, 4}\n",
    "a[1]"
   ],
   "id": "81b2414fe2d941ee",
   "outputs": [],
   "execution_count": null
  },
  {
   "metadata": {},
   "cell_type": "markdown",
   "source": "Sets can not contain duplicate items",
   "id": "b4cbb8e79b4a6b01"
  },
  {
   "metadata": {},
   "cell_type": "code",
   "source": "{1, 1, 2, 2, 3, 4}",
   "id": "20fe82a8ca0d4745",
   "outputs": [],
   "execution_count": null
  },
  {
   "metadata": {},
   "cell_type": "code",
   "source": [
    "a = {1, 2, 3, 4}\n",
    "b = {3, 4, 5, 6}\n",
    "c = a.intersection(b)\n",
    "print(c)"
   ],
   "id": "1ba7a16e3cd34a85",
   "outputs": [],
   "execution_count": null
  },
  {
   "metadata": {},
   "cell_type": "markdown",
   "source": "**Exercise** *: Create a new set from the union of a, b",
   "id": "6f01a9816f70e18a"
  },
  {
   "metadata": {},
   "cell_type": "code",
   "source": [
    "a = {1, 2, 3, 4}\n",
    "b = {3, 4, 5, 6}\n",
    "\n"
   ],
   "id": "e0a2bf63ec89f1ec",
   "outputs": [],
   "execution_count": null
  },
  {
   "metadata": {},
   "cell_type": "markdown",
   "source": "**Exercise** **: Remove the duplicates from the list (type of the end result should be list)\n",
   "id": "2b91af69ab296d38"
  },
  {
   "metadata": {},
   "cell_type": "code",
   "source": "a = [1,1,2,3,3,3,4,5,6]",
   "id": "27f439ecf3fa54ef",
   "outputs": [],
   "execution_count": null
  },
  {
   "metadata": {},
   "cell_type": "markdown",
   "source": "**Exercise** **: Why does this not work?",
   "id": "d170ea4c61e8d6"
  },
  {
   "metadata": {},
   "cell_type": "code",
   "source": "a = {1, [2, 3], 'foo', 4.567}",
   "id": "cb909b3a601af680",
   "outputs": [],
   "execution_count": null
  },
  {
   "metadata": {},
   "cell_type": "markdown",
   "source": "**Exercise** **: And then, why does this work?",
   "id": "b86a8a2aee488c70"
  },
  {
   "metadata": {},
   "cell_type": "code",
   "outputs": [],
   "execution_count": null,
   "source": "a = {1, (2, 3), 'foo', 4.567}",
   "id": "1b6e24d6f7aa6e57"
  },
  {
   "metadata": {},
   "cell_type": "markdown",
   "source": [
    "## Dictionaries\n",
    "Dictionaries can be understood as lookup tables (or as HashTables for those coming from Java) containing key-value pairs. The keys have to be unique, and keys have to be 'hashable'. The values can be arbitrary types.\n",
    "Dictionaries are practical if you have a collection of items that you want to access using a name or identifier rather than an index."
   ],
   "id": "bf0f2fd1f1547727"
  },
  {
   "metadata": {},
   "cell_type": "code",
   "source": "{'a': 4, 'b': 23}",
   "id": "d028b35bf837a805",
   "outputs": [],
   "execution_count": null
  },
  {
   "metadata": {},
   "cell_type": "code",
   "source": "type({'a': 4, 'b': 23})",
   "id": "5385f28bbce65bfd",
   "outputs": [],
   "execution_count": null
  },
  {
   "metadata": {},
   "cell_type": "code",
   "source": [
    "age_dict = {'Tom': 22, 'Jack': 25}\n",
    "age_dict['Tom']"
   ],
   "id": "9c8cef0b09bf0a0b",
   "outputs": [],
   "execution_count": null
  },
  {
   "metadata": {},
   "cell_type": "code",
   "source": [
    "d = {124: 'Hello'}\n",
    "print(d[124])"
   ],
   "id": "cea947dce238e0d8",
   "outputs": [],
   "execution_count": null
  },
  {
   "metadata": {},
   "cell_type": "markdown",
   "source": "Accessing unknown keys of course does not work.",
   "id": "15a107a4143541af"
  },
  {
   "metadata": {},
   "cell_type": "code",
   "source": [
    "age_dict = {'Tom': 22, 'Jack': 25}\n",
    "age_dict['Jill']"
   ],
   "id": "500ef413750e119a",
   "outputs": [],
   "execution_count": null
  },
  {
   "metadata": {},
   "cell_type": "code",
   "source": [
    "age_dict = {'Tom': 22, 'Jack': 25}\n",
    "'Jill' in age_dict"
   ],
   "id": "c64ef3e15e200084",
   "outputs": [],
   "execution_count": null
  },
  {
   "metadata": {},
   "cell_type": "markdown",
   "source": "Keys have to be 'hashable' types",
   "id": "d01a1df26e432d6b"
  },
  {
   "metadata": {},
   "cell_type": "code",
   "source": "d = {[1,2]: 3, None: 4, [2,3]: 5}\n",
   "id": "5284684a85dbb3a5",
   "outputs": [],
   "execution_count": null
  },
  {
   "metadata": {},
   "cell_type": "code",
   "source": "d = {{1,2}: 3}\n",
   "id": "b1c4d327b077d71",
   "outputs": [],
   "execution_count": null
  },
  {
   "metadata": {},
   "cell_type": "markdown",
   "source": "**Exercise** * : Create a single dictionary containing three person and their corresponding phone numbers and age. The key is to be the name of the person.",
   "id": "7c3529f32b2abab1"
  },
  {
   "metadata": {},
   "cell_type": "code",
   "source": "",
   "id": "9cb1fb79aec56e85",
   "outputs": [],
   "execution_count": null
  },
  {
   "metadata": {},
   "cell_type": "markdown",
   "source": [
    "## (Tuples)\n",
    "Tuples are the write-only version of a list."
   ],
   "id": "38bdc750173855c7"
  },
  {
   "metadata": {},
   "cell_type": "code",
   "source": "(1, 2, 3, 4, 5)",
   "id": "f46726de47e50de9",
   "outputs": [],
   "execution_count": null
  },
  {
   "metadata": {},
   "cell_type": "code",
   "source": "type((1, 2, 3, 4, 5))",
   "id": "c8b41601d36d5361",
   "outputs": [],
   "execution_count": null
  },
  {
   "metadata": {},
   "cell_type": "code",
   "source": [
    "t = (1, 2, 3, 4, 5)\n",
    "t[0]"
   ],
   "id": "88bf35c54e8379e",
   "outputs": [],
   "execution_count": null
  },
  {
   "metadata": {},
   "cell_type": "code",
   "source": [
    "t = (1, 2, 3, 4, 5)\n",
    "t[0] = 6"
   ],
   "id": "5ba3f960c05e6296",
   "outputs": [],
   "execution_count": null
  },
  {
   "metadata": {},
   "cell_type": "markdown",
   "source": "# Type conversions and casting",
   "id": "94f10176217c9419"
  },
  {
   "metadata": {},
   "cell_type": "markdown",
   "source": "# More on comparisons",
   "id": "93c6f0c2f7169730"
  },
  {
   "metadata": {},
   "cell_type": "markdown",
   "source": "Some types can be converted (casted) to other types under certain conditions.",
   "id": "95bfd95010ee33e3"
  },
  {
   "metadata": {},
   "cell_type": "code",
   "source": [
    "a = 3\n",
    "print(type(a))\n",
    "b = float(a)\n",
    "print(type(b))"
   ],
   "id": "325522194d90d62c",
   "outputs": [],
   "execution_count": null
  },
  {
   "metadata": {},
   "cell_type": "code",
   "source": [
    "a = (1, 2, 3, 4)\n",
    "print(type(a))\n",
    "b = list(a)\n",
    "print(type(b))"
   ],
   "id": "d2317d3719018de3",
   "outputs": [],
   "execution_count": null
  },
  {
   "metadata": {},
   "cell_type": "markdown",
   "source": "Conversions can lead to reduction of accuracy or contained information",
   "id": "25ecfca79c2dddbc"
  },
  {
   "metadata": {},
   "cell_type": "code",
   "source": [
    "a = 3.5\n",
    "print(type(a))\n",
    "b = int(a)\n",
    "print(type(b))\n",
    "print(b)"
   ],
   "id": "f9db1e84e7fce237",
   "outputs": [],
   "execution_count": null
  },
  {
   "metadata": {},
   "cell_type": "markdown",
   "source": "Some conversions are performed automatically",
   "id": "2be6f0179c40a2f8"
  },
  {
   "metadata": {},
   "cell_type": "code",
   "source": [
    "print(type(3/10))\n",
    "print(type(not 1))\n",
    "print(type(not []))"
   ],
   "id": "1ba74b06b7b17cf6",
   "outputs": [],
   "execution_count": null
  },
  {
   "metadata": {},
   "cell_type": "markdown",
   "source": "However, limitations of the target type have to be kept in mind.",
   "id": "c773a872a4dbbe13"
  },
  {
   "metadata": {},
   "cell_type": "code",
   "source": [
    "a = [1, [3], 2]\n",
    "print(type(a))\n",
    "b = set(a)\n",
    "print(b)"
   ],
   "id": "23a6341ffb56509a",
   "outputs": [],
   "execution_count": null
  },
  {
   "metadata": {},
   "cell_type": "markdown",
   "source": "And some conversions just simply cant work",
   "id": "608227fd20d44be9"
  },
  {
   "metadata": {},
   "cell_type": "code",
   "source": [
    "a = 'Hello World'\n",
    "int(a)"
   ],
   "id": "77c0f9c4c5640949",
   "outputs": [],
   "execution_count": null
  },
  {
   "metadata": {},
   "cell_type": "markdown",
   "source": "**Exercise** ***: What is going on here? (`\"{:.50f}\".format` is there to specify how many digits of the float we want to print)",
   "id": "a816f0c7f27b9bdc"
  },
  {
   "metadata": {},
   "cell_type": "code",
   "source": [
    "x = 0.1\n",
    "y = 0.5\n",
    "print(\"{:.50f}\".format(x)) \n",
    "print(\"{:.50f}\".format(y)) \n"
   ],
   "id": "f9e4280b63b52f5",
   "outputs": [],
   "execution_count": null
  },
  {
   "metadata": {},
   "cell_type": "markdown",
   "source": "**Exercise** ***: What is going to be the difference between performing $x = 11x - 10x$ vs $x = 10x - 9x$?",
   "id": "4c0eb6e44e45f59"
  },
  {
   "metadata": {},
   "cell_type": "code",
   "source": [
    "x = 0.1\n",
    "print(\"{:.50f}\".format(x)) \n"
   ],
   "id": "8c6bb70c814ac432",
   "outputs": [],
   "execution_count": null
  },
  {
   "metadata": {},
   "cell_type": "markdown",
   "source": "**Exercise** ***: As $x = 11x - 10x$ for x = 0.1 is the same as $x = 11x - 1$, what is going to happen if we perform this assignment repeadetly?",
   "id": "d934c04dbea17990"
  },
  {
   "metadata": {},
   "cell_type": "code",
   "source": [
    "x = 0.1\n",
    "x = x * 11 - 1\n",
    "print(\"{:.50f}\".format(x)) \n",
    "\n",
    "x = x * 11 - 1\n",
    "print(\"{:.50f}\".format(x)) \n",
    "\n",
    "x = x * 11 - 1\n",
    "print(\"{:.50f}\".format(x)) \n",
    "\n",
    "x = x * 11 - 1\n",
    "print(\"{:.50f}\".format(x)) \n",
    "\n",
    "x = x * 11 - 1\n",
    "print(\"{:.50f}\".format(x)) "
   ],
   "id": "3b3bbf542ac657fc",
   "outputs": [],
   "execution_count": null
  },
  {
   "metadata": {},
   "cell_type": "markdown",
   "source": "# More on comparisons",
   "id": "8d3cd33975ce6b99"
  },
  {
   "metadata": {},
   "cell_type": "markdown",
   "source": "'==' and 'is' do not have the same meaning in Python. 'is' returns True if it is the same object instance (pointing to the same space in memory), while '==' checks if the contents are the same.",
   "id": "31745eec48220e9a"
  },
  {
   "metadata": {},
   "cell_type": "code",
   "source": [
    "a = [1, 2, 3]\n",
    "b = [1, 2, 3]\n",
    "print(a is b)\n",
    "print(a == b)"
   ],
   "id": "15456a69b095a12",
   "outputs": [],
   "execution_count": null
  },
  {
   "metadata": {},
   "cell_type": "code",
   "source": [
    "a = [1, 2, 3]\n",
    "b = a\n",
    "print(a is b)\n",
    "print(a == b)"
   ],
   "id": "d13576888d6917d9",
   "outputs": [],
   "execution_count": null
  },
  {
   "metadata": {},
   "cell_type": "markdown",
   "source": "However, due to some internal workings of python, this is a common pitfall that may work but then suddenly break for new values.",
   "id": "fa76cea69d6eca47"
  },
  {
   "metadata": {},
   "cell_type": "code",
   "source": [
    "a = 5\n",
    "b = 5\n",
    "print(a is b)\n",
    "print(a == b)"
   ],
   "id": "218a7ef83dbcff29",
   "outputs": [],
   "execution_count": null
  },
  {
   "metadata": {},
   "cell_type": "code",
   "source": [
    "a = 5e1000\n",
    "b = 5e1000\n",
    "print(a is b)\n",
    "print(a == b)"
   ],
   "id": "54b04cbaeddc3f67",
   "outputs": [],
   "execution_count": null
  },
  {
   "metadata": {},
   "cell_type": "code",
   "source": [
    "a = 5e1000\n",
    "b = a\n",
    "print(a is b)\n",
    "print(a == b)\n",
    "\n",
    "a += 1\n",
    "b += 1\n",
    "print(a is b)\n",
    "print(a == b)"
   ],
   "id": "a251009e20d75605",
   "outputs": [],
   "execution_count": null
  },
  {
   "metadata": {},
   "cell_type": "code",
   "source": [
    "a = 'sdf'\n",
    "b = 'sdf'\n",
    "print(a is b)\n",
    "print(a == b)"
   ],
   "id": "a3e662f66a21a686",
   "outputs": [],
   "execution_count": null
  },
  {
   "metadata": {},
   "cell_type": "markdown",
   "source": "So keep in mind that comparing values you always want '==' while 'is' is the special case where you want to assure that some object occupies the same space in memory.",
   "id": "5410813efdaa2395"
  },
  {
   "metadata": {},
   "cell_type": "markdown",
   "source": "# Mutable vs Immutable types",
   "id": "346b4f0539bb5bbd"
  },
  {
   "metadata": {},
   "cell_type": "markdown",
   "source": "int, bool, float, str, tuple are immutable. Meaning that you cannot modify them in place, and if you change/modify the value, you get a new object.",
   "id": "7ff30389d69e823e"
  },
  {
   "metadata": {},
   "cell_type": "code",
   "source": [
    "a_orig = 100\n",
    "a_new = a_orig\n",
    "a_new += 1\n",
    "\n",
    "print(a_orig)\n",
    "print(a_new)\n"
   ],
   "id": "c1801db746ba9887",
   "outputs": [],
   "execution_count": null
  },
  {
   "metadata": {},
   "cell_type": "markdown",
   "source": "list, dict, set are mutable. Meaning that they are still the same object if you modify them. They still occupy the same space in memory and all variables pointing there will have these modifications.",
   "id": "c6914a4a67806702"
  },
  {
   "metadata": {},
   "cell_type": "code",
   "source": [
    "a_orig = [100, 101]\n",
    "a_new = a_orig\n",
    "a_new[0] += 1\n",
    "print(a_orig)\n",
    "print(a_new)"
   ],
   "id": "a8b7ec0f25e09824",
   "outputs": [],
   "execution_count": null
  },
  {
   "metadata": {},
   "cell_type": "code",
   "source": [
    "a_orig = [100, 101]\n",
    "a_new = a_orig\n",
    "a_new.append(1)\n",
    "print(a_orig)\n",
    "print(a_new)"
   ],
   "id": "9041cdb7506c74f2",
   "outputs": [],
   "execution_count": null
  },
  {
   "metadata": {},
   "cell_type": "markdown",
   "source": "However, some operations on mutable objects do create new objects.",
   "id": "66d1ed3fc5bf0b4f"
  },
  {
   "metadata": {},
   "cell_type": "code",
   "source": [
    "a_orig = [100, 101]\n",
    "a_new = a_orig\n",
    "a_new = a_new + [1]\n",
    "print(a_orig)\n",
    "print(a_new)"
   ],
   "id": "550b597f7e1f0eaf",
   "outputs": [],
   "execution_count": null
  },
  {
   "metadata": {},
   "cell_type": "code",
   "source": "",
   "id": "964dd085d572975c",
   "outputs": [],
   "execution_count": null
  }
 ],
 "metadata": {
  "kernelspec": {
   "display_name": "Python 3",
   "language": "python",
   "name": "python3"
  },
  "language_info": {
   "codemirror_mode": {
    "name": "ipython",
    "version": 2
   },
   "file_extension": ".py",
   "mimetype": "text/x-python",
   "name": "python",
   "nbconvert_exporter": "python",
   "pygments_lexer": "ipython2",
   "version": "2.7.6"
  }
 },
 "nbformat": 4,
 "nbformat_minor": 5
}
