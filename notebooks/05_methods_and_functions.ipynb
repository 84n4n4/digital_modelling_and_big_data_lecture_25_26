{
 "cells": [
  {
   "metadata": {},
   "cell_type": "markdown",
   "source": "# Methods and functions"
  },
  {
   "metadata": {},
   "cell_type": "markdown",
   "source": [
    "Once you start writing code you will soon begin to repeat yourself. Functions and Methods help you to reuse parts of your code. Classes and Modules will help you group your code.\n",
    "\n",
    "Functions are defined on their own, methods are defined inside classes. Functions are more or less stand alone, methods are attached to objects that they operate on."
   ]
  },
  {
   "metadata": {},
   "cell_type": "code",
   "source": "print()",
   "outputs": [],
   "execution_count": null
  },
  {
   "metadata": {},
   "cell_type": "code",
   "source": [
    "a = 'Hello World'\n",
    "len(a)"
   ],
   "outputs": [],
   "execution_count": null
  },
  {
   "metadata": {},
   "cell_type": "code",
   "source": [
    "a = 'Hello World'\n",
    "a.lower()"
   ],
   "outputs": [],
   "execution_count": null
  },
  {
   "metadata": {},
   "cell_type": "code",
   "source": "lower()",
   "outputs": [],
   "execution_count": null
  },
  {
   "metadata": {},
   "cell_type": "markdown",
   "source": "Different types have different methods. A method available on one class may not be implemented in another class, or maybe behave different."
  },
  {
   "metadata": {},
   "cell_type": "code",
   "source": [
    "a = 3\n",
    "a.lower()"
   ],
   "outputs": [],
   "execution_count": null
  },
  {
   "metadata": {},
   "cell_type": "markdown",
   "source": "**Exercise** *: There is a builtin `max` function that gives you the biggest number of an array or the biggest number in multiple parameters passed. Find out how to call it and do that for an array and for multiple parameters:"
  },
  {
   "metadata": {},
   "cell_type": "code",
   "source": "",
   "outputs": [],
   "execution_count": null
  },
  {
   "metadata": {},
   "cell_type": "markdown",
   "source": "# Functions"
  },
  {
   "cell_type": "markdown",
   "metadata": {},
   "source": [
    "Python functions start with `def`, followed by a function name and brackets.\n",
    "Everything in the function is intended (prefixed) by spaces.\n",
    "Lets say we want to write a function that prints a certain sentence."
   ]
  },
  {
   "cell_type": "code",
   "metadata": {},
   "source": [
    "def print_a_message():\n",
    "    print(\"* This message will be printed when calling the function *\")\n",
    "\n",
    "print_a_message()"
   ],
   "outputs": [],
   "execution_count": null
  },
  {
   "cell_type": "markdown",
   "metadata": {},
   "source": "**Exercise** *: Now try to print the message twice by calling the function"
  },
  {
   "cell_type": "code",
   "metadata": {},
   "source": [],
   "outputs": [],
   "execution_count": null
  },
  {
   "cell_type": "markdown",
   "metadata": {},
   "source": [
    "### Input function\n",
    "\n",
    "The `input()` function allows user input. Run the following code and try to undestand how it works."
   ]
  },
  {
   "cell_type": "code",
   "metadata": {},
   "source": [
    "print('Enter your name:')\n",
    "x = input()\n",
    "print('Hello, ' + x)"
   ],
   "outputs": [],
   "execution_count": null
  },
  {
   "cell_type": "markdown",
   "metadata": {},
   "source": [
    "**Exercise** *:\n",
    "* Write a function that ask the user `tell me a number`\n",
    "* Print the following: `I dont like the number x` (where x is the input value)."
   ]
  },
  {
   "cell_type": "code",
   "metadata": {},
   "source": [],
   "outputs": [],
   "execution_count": null
  },
  {
   "cell_type": "markdown",
   "metadata": {},
   "source": [
    "**Exercise** *: Find the bug\n",
    "\n",
    "Why do you think that the next line does not work?"
   ]
  },
  {
   "cell_type": "code",
   "metadata": {},
   "source": [
    "foo()\n",
    "\n",
    "def foo():\n",
    "    print(\"abc\")"
   ],
   "outputs": [],
   "execution_count": null
  },
  {
   "cell_type": "markdown",
   "metadata": {},
   "source": ""
  },
  {
   "cell_type": "markdown",
   "metadata": {},
   "source": "**Exercise** *: Why do you think that the next lines do not work?"
  },
  {
   "cell_type": "code",
   "metadata": {},
   "source": [
    "def return():\n",
    "    print(\"return is a python keyword\")\n",
    "\n",
    "def def():\n",
    "    print(\"def is a python keyword\")\n",
    "    \n",
    "def 1234():\n",
    "    print(\"1234 is not a valid function name\")\n",
    "\n",
    "return()\n",
    "def()\n",
    "1234()"
   ],
   "outputs": [],
   "execution_count": null
  },
  {
   "cell_type": "markdown",
   "metadata": {},
   "source": [
    "\n",
    "**Exercise** *: Rename the functions to valid names and run again"
   ]
  },
  {
   "cell_type": "markdown",
   "metadata": {},
   "source": [
    "### Function results\n",
    "\n",
    "Functions can return zero or more values to the caller. To return a value, you write `return`.\n",
    "\n",
    "This will immediately leave the function. Try to undestand the following lines of code."
   ]
  },
  {
   "cell_type": "code",
   "metadata": {},
   "source": [
    "def get_a_message():\n",
    "    return \"very important message\"\n",
    "\n",
    "message = get_a_message()\n",
    "print(message)"
   ],
   "outputs": [],
   "execution_count": null
  },
  {
   "cell_type": "markdown",
   "metadata": {},
   "source": [
    "### Function arguments\n",
    "\n",
    "Functions can have arguments, that's what variables are called that get passed to the function"
   ]
  },
  {
   "cell_type": "code",
   "metadata": {},
   "source": [
    "def is_greater_than(a, b):\n",
    "    return a > b\n",
    "\n",
    "is_greater_than(4, 5)"
   ],
   "outputs": [],
   "execution_count": null
  },
  {
   "cell_type": "markdown",
   "metadata": {},
   "source": "**Exercise** *: Write a function `square` that takes one argument and returns the square (e.g. input argument = 9, return should be 81)"
  },
  {
   "cell_type": "code",
   "metadata": {},
   "source": [],
   "outputs": [],
   "execution_count": null
  },
  {
   "metadata": {},
   "cell_type": "markdown",
   "source": "**Exercise** *: Write a function `add` that takes two arguments and returns the sum of them (e.g. first argument = 4, second argument = 9, return should be 13)\n"
  },
  {
   "metadata": {},
   "cell_type": "code",
   "source": "",
   "outputs": [],
   "execution_count": null
  },
  {
   "cell_type": "markdown",
   "metadata": {},
   "source": [
    "**Exercise** **:\n",
    "\n",
    "Write the functions `root`, `add` and `square` needed to calculate the pythagoras formula below. Hint: you may need the Python module `math`.\n",
    "\n",
    "Result should then be $$c = \\sqrt{a^2 + b^2}$$"
   ]
  },
  {
   "cell_type": "code",
   "metadata": {},
   "source": [
    "\n",
    "\n",
    "\n",
    "def hypotenuse(a, b):\n",
    "    return root(add(square(a), square(b)))\n",
    "\n",
    "a = 4\n",
    "b = 3\n",
    "hypotenuse(a, b)"
   ],
   "outputs": [],
   "execution_count": null
  },
  {
   "cell_type": "markdown",
   "metadata": {},
   "source": [
    "### Named arguments\n",
    "\n",
    "Python allows you to pass arguments in any order by naming which value corresponds to which argument"
   ]
  },
  {
   "cell_type": "code",
   "metadata": {},
   "source": [
    "def minus(minuend, subtrahend):\n",
    "    return minuend - subtrahend\n",
    "\n",
    "result = minus(7, 4)\n",
    "print(result)\n",
    "result = minus(subtrahend=7, minuend=4)\n",
    "print(result)"
   ],
   "outputs": [],
   "execution_count": null
  },
  {
   "cell_type": "markdown",
   "metadata": {},
   "source": "**Exercise** *: Find the bug"
  },
  {
   "cell_type": "code",
   "metadata": {},
   "source": [
    "def function_with_two_arguments(first_argument, second_argument):\n",
    "    return first_argument*first_argument + second_argument*second_argument\n",
    "\n",
    "a = 5\n",
    "b = 4\n",
    "function_with_two_arguments()"
   ],
   "outputs": [],
   "execution_count": null
  },
  {
   "cell_type": "markdown",
   "metadata": {},
   "source": [
    "### Arguments with default values\n",
    "\n",
    "Arguments can have default values, in this case they can be left out."
   ]
  },
  {
   "cell_type": "code",
   "metadata": {},
   "source": [
    "def volume(height, width, depth=1):\n",
    "    return height * width * depth\n",
    "\n",
    "print(\"The volume is\")\n",
    "print(volume(4, 3))\n",
    "\n",
    "print(\"The volume is\")\n",
    "print(volume(200, 180, 40))"
   ],
   "outputs": [],
   "execution_count": null
  },
  {
   "cell_type": "markdown",
   "metadata": {},
   "source": [
    "**Exercise** *:\n",
    "\n",
    "Write a program that calculates the body mass index. The function should have a default value for the `weight=80`.\n",
    "\n",
    "$$bmi(height, weight) = \\dfrac{weight}{height^2} = \\dfrac{kg}{m^2}$$\n",
    "\n",
    "The height should be given to the function in centimeters.\n",
    "\n",
    "Now call the function two times. Once with only the height, and once with height and weight."
   ]
  },
  {
   "cell_type": "code",
   "metadata": {},
   "source": [],
   "outputs": [],
   "execution_count": null
  },
  {
   "metadata": {},
   "cell_type": "markdown",
   "source": "However, do take care that you only use immutable types for default parameters!"
  },
  {
   "metadata": {},
   "cell_type": "markdown",
   "source": "**Exercise** ***: Explain whats happening here."
  },
  {
   "metadata": {},
   "cell_type": "code",
   "source": [
    "def add_to_list(item, list=[]):\n",
    "    list.append(item)\n",
    "    return list\n",
    "\n",
    "l = []\n",
    "a = 5\n",
    "print(add_to_list(a, l))\n",
    "\n",
    "print(add_to_list(5))\n",
    "\n",
    "print(add_to_list(5))"
   ],
   "outputs": [],
   "execution_count": null
  },
  {
   "cell_type": "markdown",
   "metadata": {},
   "source": [
    "### Functions with a variable number of arguments\n",
    "\n",
    "Python has a number of built-in functions that take a variable number of arguments\n",
    "\n",
    "* `max(a, ......)` returns the argument with the highes value\n",
    "* `min(a, ......)` returns the argument with the lowest value"
   ]
  },
  {
   "cell_type": "code",
   "metadata": {},
   "source": [
    "max(8, 2, 4, 5, 34, 54, 7, 45)"
   ],
   "outputs": [],
   "execution_count": null
  },
  {
   "cell_type": "code",
   "metadata": {},
   "source": [
    "min(8, 2, 4, 5, 34, 54, 7, 45)"
   ],
   "outputs": [],
   "execution_count": null
  },
  {
   "metadata": {},
   "cell_type": "markdown",
   "source": "# Python syntax and conventions"
  },
  {
   "metadata": {},
   "cell_type": "markdown",
   "source": [
    "Some programming languages use brackets (e.g. '{}' in C, C#, Java) to group blocks of code (e.g. Functions, methods, classes, control blocks) and dont care about white spaces (space, tab, possibly linebreaks, etc.)\n",
    "In Python such blocks are indented to the same level (prefixed with spaces) to achive this grouping."
   ]
  },
  {
   "metadata": {},
   "cell_type": "code",
   "source": [
    "def bar():\n",
    "    print('foo')\n",
    "bar()"
   ],
   "outputs": [],
   "execution_count": null
  },
  {
   "metadata": {},
   "cell_type": "markdown",
   "source": "While using a different number of spaces works, the standard convention is 4 spaces, as using varying indentations will decrease readability."
  },
  {
   "metadata": {},
   "cell_type": "code",
   "source": [
    "def foo():\n",
    " print('bar')\n",
    "\n",
    "foo()\n",
    "\n",
    "def bar():\n",
    "    print('foo')\n",
    "bar()"
   ],
   "outputs": [],
   "execution_count": null
  },
  {
   "metadata": {},
   "cell_type": "code",
   "source": "",
   "outputs": [],
   "execution_count": null
  }
 ],
 "metadata": {
  "kernelspec": {
   "display_name": "Python 3 (ipykernel)",
   "language": "python",
   "name": "python3"
  },
  "language_info": {
   "codemirror_mode": {
    "name": "ipython",
    "version": 3
   },
   "file_extension": ".py",
   "mimetype": "text/x-python",
   "name": "python",
   "nbconvert_exporter": "python",
   "pygments_lexer": "ipython3",
   "version": "3.10.9"
  }
 },
 "nbformat": 4,
 "nbformat_minor": 2
}
