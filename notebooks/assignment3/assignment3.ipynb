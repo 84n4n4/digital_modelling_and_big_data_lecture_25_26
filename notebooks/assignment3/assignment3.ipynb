{
 "cells": [
  {
   "cell_type": "code",
   "id": "initial_id",
   "metadata": {
    "collapsed": true,
    "ExecuteTime": {
     "end_time": "2025-10-27T10:05:02.034124Z",
     "start_time": "2025-10-27T10:05:01.984756Z"
    }
   },
   "source": [
    "# Todo: Make stratified train test split (both train and test must have the same amount of target classes in them) of features x and y\n",
    "# stratiefied means that the ratio of 0 & 1 in the target y is the same in both splits.\n",
    "# hint: look at sklearn documentation, you are of course encouraged to use sklearn functions.\n",
    "# expected output is a list with 4 items (x_train, x_test, y_train, y_test)\n",
    "# e.g. for the provided test input, the expected outcome is something like this:\n",
    "# [array([12,  7,  2,  5,  9, 10, 14]), array([ 6, 11,  8,  1, 15, 13,  3,  4]), array([1, 0, 0, 0, 0, 1, 1]), array([0, 1, 0, 0, 1, 1, 0, 0])]\n",
    "# so that x_train, x_test, y_train, y_test = split_50_50(x, y) then contains the correct splits\n",
    "\n",
    "import numpy as np\n",
    "\n",
    "def split_50_50(x, y):\n",
    "    return None, None, None, None\n",
    "\n",
    "\n",
    "x = np.array([1, 2, 3, 4, 5, 6, 7, 8, 9, 10, 11, 12, 13, 14, 15])\n",
    "y = np.array([0, 0, 0, 0, 0, 0, 0, 0, 0,  1,  1,  1,  1,  1,  1])\n",
    "x_train, x_test, y_train, y_test = split_50_50(x, y)\n",
    "print(split_50_50(x, y))"
   ],
   "outputs": [
    {
     "name": "stdout",
     "output_type": "stream",
     "text": [
      "(None, None, None, None)\n"
     ]
    }
   ],
   "execution_count": 1
  },
  {
   "metadata": {},
   "cell_type": "code",
   "source": [
    "# Todo: scale the given vector with a min/max scaler\n",
    "# * find the corresponding function in skelarn\n",
    "# *** (optional) implement it yourself and compare your results with the sklearn function\n",
    "# *** (optional) add other scalers aswell\n",
    "\n",
    "import numpy as np\n",
    "\n",
    "def scale_this(x):\n",
    "    pass\n",
    "\n",
    "x = np.array([1, 2, 3, 4, 5, 6, 7, 8, 9, 10, 11, 12, 13, 14, 15]).reshape(-1, 1)\n",
    "print(scale_this(x))\n"
   ],
   "id": "1cdeb0dd941059f",
   "outputs": [],
   "execution_count": null
  },
  {
   "metadata": {},
   "cell_type": "code",
   "source": [
    "from matplotlib import pyplot as plt\n",
    "import numpy as np\n",
    "\n",
    "\n",
    "# Todo: Scoring - calculate mean square error, mean absolute error, mean absolute percentage error, and r2 of the following prediction from a regression problem\n",
    "# * Calculate the scores, check out sklearn documentation\n",
    "# * Explain why mape showing such high values?\n",
    "\n",
    "def do_scoring(y_true, y_pred):\n",
    "    print(f'mse: ?')\n",
    "    print(f'mae: ?')\n",
    "    print(f'mape: ?')\n",
    "    print(f'r2: ?')\n",
    "\n",
    "\n",
    "x = np.arange(0, np.pi*2, 0.1)\n",
    "y_true = np.sin(x)\n",
    "y_pred_1 = y_true + 0.05\n",
    "y_pred_2 = np.roll(y_true, shift=1)\n",
    "y_pred_3 = y_true + np.random.random(len(y_true))*0.1\n",
    "y_pred_4 = np.zeros(len(y_true))\n",
    "y_pred_5 = y_true\n",
    "\n",
    "plt.plot(x, y_true)\n",
    "plt.plot(x, y_pred_1)\n",
    "plt.plot(x, y_pred_2)\n",
    "plt.plot(x, y_pred_3)\n",
    "plt.plot(x, y_pred_4)\n",
    "plt.legend(['y_true', 'y_pred_1', 'y_pred_2', 'y_pred_3', 'y_pred_4'])\n",
    "plt.show()\n",
    "\n",
    "do_scoring(y_true, y_pred_1)\n",
    "do_scoring(y_true, y_pred_2)\n",
    "do_scoring(y_true, y_pred_3)\n",
    "do_scoring(y_true, y_pred_4)\n",
    "do_scoring(y_true, y_pred_5)"
   ],
   "id": "426aef83e4a5f49b",
   "outputs": [],
   "execution_count": null
  },
  {
   "metadata": {},
   "cell_type": "code",
   "source": [
    "from sklearn.preprocessing import PolynomialFeatures\n",
    "import numpy as np\n",
    "\n",
    "# Todo: Generate polynomial features\n",
    "# * create polynomial features of degree 2 for the given data z\n",
    "# output should look something like this:\n",
    "# [[    1.    11.     1.    11.   121.]\n",
    "#  [    2.    21.     4.    42.   441.]\n",
    "#  [    3.    31.     9.    93.   961.]\n",
    "#  [    4.    41.    16.   164.  1681.]\n",
    "#  [    5.    51.    25.   255.  2601.]\n",
    "#  [    6.    61.    36.   366.  3721.]\n",
    "#  [    7.    71.    49.   497.  5041.]\n",
    "#  [    8.    81.    64.   648.  6561.]\n",
    "#  [    9.    91.    81.   819.  8281.]\n",
    "#  [   10.   101.   100.  1010. 10201.]\n",
    "#  [   11.   111.   121.  1221. 12321.]\n",
    "#  [   12.   121.   144.  1452. 14641.]\n",
    "#  [   13.   131.   169.  1703. 17161.]\n",
    "#  [   14.   141.   196.  1974. 19881.]\n",
    "#  [   15.   151.   225.  2265. 22801.]]\n",
    "\n",
    "def make_polynomial_features(x, degree):\n",
    "    pass\n",
    "\n",
    "z = np.array([[  1,  11],\n",
    "               [  2,  21],\n",
    "               [  3,  31],\n",
    "               [  4,  41],\n",
    "               [  5,  51],\n",
    "               [  6,  61],\n",
    "               [  7,  71],\n",
    "               [  8,  81],\n",
    "               [  9,  91],\n",
    "               [ 10, 101],\n",
    "               [ 11, 111],\n",
    "               [ 12, 121],\n",
    "               [ 13, 131],\n",
    "               [ 14, 141],\n",
    "               [ 15, 151]])\n",
    "print(str(make_polynomial_features(z, 2)))"
   ],
   "id": "b1e0f3614a50c3a",
   "outputs": [],
   "execution_count": null
  }
 ],
 "metadata": {
  "kernelspec": {
   "display_name": "Python 3",
   "language": "python",
   "name": "python3"
  },
  "language_info": {
   "codemirror_mode": {
    "name": "ipython",
    "version": 2
   },
   "file_extension": ".py",
   "mimetype": "text/x-python",
   "name": "python",
   "nbconvert_exporter": "python",
   "pygments_lexer": "ipython2",
   "version": "2.7.6"
  }
 },
 "nbformat": 4,
 "nbformat_minor": 5
}
