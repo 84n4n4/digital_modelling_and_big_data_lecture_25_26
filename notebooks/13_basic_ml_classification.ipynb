{
 "cells": [
  {
   "metadata": {},
   "cell_type": "markdown",
   "source": "# ML Classifiers",
   "id": "c7d0a40ce02ac7ca"
  },
  {
   "metadata": {},
   "cell_type": "code",
   "source": [
    "from matplotlib import pyplot as plt\n",
    "from sklearn.datasets import make_classification\n",
    "from sklearn.tree import DecisionTreeClassifier\n",
    "from sklearn.metrics import accuracy_score"
   ],
   "id": "492d3844336d98a2",
   "execution_count": null,
   "outputs": []
  },
  {
   "metadata": {},
   "cell_type": "markdown",
   "source": "## Create a random dataset",
   "id": "723009abbbbd37be"
  },
  {
   "cell_type": "code",
   "id": "initial_id",
   "metadata": {
    "collapsed": true
   },
   "source": [
    "X, y = make_classification(n_samples=100, n_features=2, n_informative=2, n_repeated=0, n_redundant=0, n_classes=2, n_clusters_per_class=2, random_state=0)\n",
    "plt.scatter(X[:, 0], X[:, 1], c=y)\n"
   ],
   "execution_count": null,
   "outputs": []
  },
  {
   "metadata": {},
   "cell_type": "markdown",
   "source": [
    "## Instantiate a classifier\n",
    "For example a DecisionTreeClassifier"
   ],
   "id": "35f79d4c3aa4ccaa"
  },
  {
   "metadata": {},
   "cell_type": "code",
   "source": "clf = DecisionTreeClassifier(max_depth=5, random_state=42)",
   "id": "7dcce6726332ee26",
   "execution_count": null,
   "outputs": []
  },
  {
   "metadata": {},
   "cell_type": "markdown",
   "source": [
    "## Train the classifier\n",
    "Using the `fit` function on the data we want to train the classifier on."
   ],
   "id": "45eae9a03c06ae55"
  },
  {
   "metadata": {},
   "cell_type": "code",
   "source": "clf.fit(X, y)",
   "id": "f4487e10ceac4512",
   "execution_count": null,
   "outputs": []
  },
  {
   "metadata": {},
   "cell_type": "markdown",
   "source": [
    "## Predict something using the trained classifier\n",
    "Using the `predict` function of it."
   ],
   "id": "35fef6d94f411bd3"
  },
  {
   "metadata": {},
   "cell_type": "code",
   "source": "y_pred = clf.predict(X)",
   "id": "f97eaa340bb6fd10",
   "execution_count": null,
   "outputs": []
  },
  {
   "metadata": {},
   "cell_type": "markdown",
   "source": [
    "## Measure its performance\n",
    "By comparing the true labels (y) with the predicted ones (y_pred)"
   ],
   "id": "17b1326eed7b4f1a"
  },
  {
   "metadata": {},
   "cell_type": "code",
   "source": "print(accuracy_score(y, y_pred))",
   "id": "21b548c47b7d1f81",
   "execution_count": null,
   "outputs": []
  },
  {
   "metadata": {},
   "cell_type": "markdown",
   "source": "**Exercise** *: Get the precision and recall scores of this model.",
   "id": "89a484dfc580420b"
  },
  {
   "metadata": {},
   "cell_type": "code",
   "outputs": [],
   "execution_count": null,
   "source": "",
   "id": "c00784834fe64251"
  },
  {
   "metadata": {},
   "cell_type": "markdown",
   "source": "**Exercise** **: Produce a confusion matrix for the classifications\n",
   "id": "595b71554197bebc"
  },
  {
   "metadata": {},
   "cell_type": "code",
   "outputs": [],
   "execution_count": null,
   "source": "",
   "id": "322440f99eacd11b"
  },
  {
   "metadata": {},
   "cell_type": "markdown",
   "source": "**Exercise** **: Train a random forest classifier instead of the decision tree classifier above and measure its performance.",
   "id": "8940bd8830d5fc5"
  },
  {
   "metadata": {},
   "cell_type": "code",
   "outputs": [],
   "execution_count": null,
   "source": "",
   "id": "5ed893dcd0909332"
  },
  {
   "metadata": {},
   "cell_type": "markdown",
   "source": "**Exercise** **: Train a support vector machine instead of the decision tree classifier above and measure its performance.",
   "id": "f6cdbc4e617fe115"
  },
  {
   "metadata": {},
   "cell_type": "code",
   "outputs": [],
   "execution_count": null,
   "source": "",
   "id": "a5ab911c1ae3fc46"
  }
 ],
 "metadata": {
  "kernelspec": {
   "display_name": "Python 3",
   "language": "python",
   "name": "python3"
  },
  "language_info": {
   "codemirror_mode": {
    "name": "ipython",
    "version": 2
   },
   "file_extension": ".py",
   "mimetype": "text/x-python",
   "name": "python",
   "nbconvert_exporter": "python",
   "pygments_lexer": "ipython2",
   "version": "2.7.6"
  }
 },
 "nbformat": 4,
 "nbformat_minor": 5
}
