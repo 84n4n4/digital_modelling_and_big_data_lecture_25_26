{
 "cells": [
  {
   "metadata": {},
   "cell_type": "markdown",
   "source": [
    "# Assignment 1\n",
    "\n",
    "Perform the tasks detailed in the Todo's\n",
    "Do not change the methods names and signature (unless explicitely asked to do so in the todo)\n",
    "You are free to add new functions as long as they do not shadow existing function names.\n",
    "\n",
    "IF ALREADY KNOW PYTHON AND THIS IS BORING TO YOU:\n",
    "'\\*\\*\\*' Version of this:\n",
    "For the list/array tasks, use timeit (https://docs.python.org/3/library/timeit.html) and determine the fastest way of doing this operation. Additional libraries such as numpy are permitted.\n",
    "For the string/parsing tasks, add proper exception handling.\n",
    "'\\*\\*\\*\\*' gracefully handling encoding errors (ISO 8859-1, utf-8, etc.) if the string that you were provided was already broken. (Check out https://ftfy.readthedocs.io and come up with an examples that contain broken stuff)\n"
   ],
   "id": "5fd91828e999da9a"
  },
  {
   "metadata": {},
   "cell_type": "code",
   "source": [
    "# Todo: fill the function below to calculate and return c using pythagoras theorem\n",
    "def pythagoras(a, b):\n",
    "    return (a**2 + b**2)**0.5\n",
    "\n",
    "print(pythagoras(4, 6))"
   ],
   "id": "984af4039992f681",
   "outputs": [],
   "execution_count": null
  },
  {
   "metadata": {},
   "cell_type": "code",
   "source": [
    "\n",
    "# Todo: fill the function below so that all spaces in the text are repalaced with '-' dashes and return the text\n",
    "def replace_space_with_dash(text):\n",
    "    return text.replace(' ', '-')\n",
    "\n",
    "print(replace_space_with_dash('Hello World'))"
   ],
   "id": "640dabd834b49389",
   "outputs": [],
   "execution_count": null
  },
  {
   "metadata": {},
   "cell_type": "code",
   "source": [
    "\n",
    "# Todo: fill the function below so that it removes all duplicated values in the list and return a new list(!)\n",
    "def remove_duplicates(list_of_numbers):\n",
    "    return list(set(list_of_numbers))\n",
    "\n",
    "print(remove_duplicates([1, 2, 3, 4, 3, 5, 2]))"
   ],
   "id": "dabbfd61f6d5b3fb",
   "outputs": [],
   "execution_count": null
  },
  {
   "metadata": {},
   "cell_type": "code",
   "source": [
    "\n",
    "# Todo: rewrite the function signature so that a has a default value of 5\n",
    "def square_a(a=5):\n",
    "    return a**2\n",
    "\n",
    "print(square_a())"
   ],
   "id": "37a967f932fa4670",
   "outputs": [],
   "execution_count": null
  },
  {
   "metadata": {},
   "cell_type": "code",
   "source": [
    "\n",
    "# Todo: rewrite the function below that it returns the integer value of a string of numbers, e.g. '123' becomes 123\n",
    "def make_integer(some_string):\n",
    "    return int(some_string)\n",
    "\n",
    "print(make_integer('1000'))"
   ],
   "id": "c4ed90ed0b5c9047",
   "outputs": [],
   "execution_count": null
  },
  {
   "metadata": {},
   "cell_type": "code",
   "source": [
    "\n",
    "# Todo: create a function that return the fibonacci sequence up to a certain value (so all numbers in the sequence smaller than limit)\n",
    "def make_fibonacci(limit):\n",
    "    fib_sequence = [0, 1]\n",
    "    if limit < 0:\n",
    "        return []\n",
    "    if limit == 0:\n",
    "        return [0]\n",
    "    while True:\n",
    "        next_value = fib_sequence[-1] + fib_sequence[-2]\n",
    "        if next_value > limit:\n",
    "            break\n",
    "        fib_sequence.append(next_value)\n",
    "    return fib_sequence\n",
    "\n",
    "print(make_fibonacci(100))"
   ],
   "id": "7932f355fb48cef6",
   "outputs": [],
   "execution_count": null
  },
  {
   "metadata": {},
   "cell_type": "code",
   "outputs": [],
   "execution_count": null,
   "source": [
    "\n",
    "# Todo: sort the given list and return it\n",
    "def sort_list_of_numbers(list_of_numbers):\n",
    "    return sorted(list_of_numbers)\n",
    "\n",
    "print(sort_list_of_numbers([1, 2, 3, 4, 3, 5, 2]))"
   ],
   "id": "a0ec0ae2463ca1e5"
  },
  {
   "metadata": {},
   "cell_type": "code",
   "outputs": [],
   "execution_count": null,
   "source": [
    "\n",
    "# Todo: create a function that takes as input a csv formated text, e.g.\n",
    "\"\"\"\n",
    "x_value,y_value\n",
    "1,3\n",
    "2,4\n",
    "\"\"\"\n",
    "# and create a two dimensional array based on 'list' type with this values (as 'int') in the following orientation.\n",
    "\"\"\"\n",
    "[[1,3],\n",
    " [2,4]]\n",
    "\"\"\"\n",
    "def read_a_two_dimensional_list_from_a_csv_string(csv_string):\n",
    "    lines = csv_string.strip().splitlines()\n",
    "    table = []\n",
    "    for l in lines[1:]:\n",
    "        row = []\n",
    "        for c in l.split(','):\n",
    "            row.append(int(c))\n",
    "        table.append(row)\n",
    "    return table\n",
    "\n",
    "print(read_a_two_dimensional_list_from_a_csv_string(\n",
    "\"\"\"\n",
    "x_value,y_value\n",
    "1,3\n",
    "2,4\n",
    "\"\"\"\n",
    "))"
   ],
   "id": "78125ff4fe1f4f58"
  },
  {
   "metadata": {},
   "cell_type": "code",
   "outputs": [],
   "execution_count": null,
   "source": [
    "\n",
    "# Todo: create a function that takes as input a csv formated text, e.g.\n",
    "\"\"\"\n",
    "Name,PhoneNumber,Age\n",
    "Tom,12345,22\n",
    "Jack,3456,24\n",
    "\"\"\"\n",
    "# and create a dictionary with name as key and value again being a dict with 'phone_number' and 'age' as respective keys.\n",
    "# age in the output dict is to be of type 'int' and the phone number is to be of type 'string'.\n",
    "\"\"\"\n",
    "{'Tom': {'phone_number': '12345', 'age': 22}, 'Jack': {'phone_number': '3456', 'age': 24}}\n",
    "\"\"\"\n",
    "def read_phone_book_from_a_csv_string(csv_string):\n",
    "    lines = csv_string.strip().splitlines()\n",
    "    phone_book = {}\n",
    "    for l in lines[1:]:\n",
    "        name = l.split(',')[0]\n",
    "        phone = l.split(',')[1]\n",
    "        age = l.split(',')[2]\n",
    "        phone_book.update({name: {'phone_number': phone, 'age': int(age)}})\n",
    "    return phone_book\n",
    "\n",
    "print(read_phone_book_from_a_csv_string(\n",
    "\"\"\"\n",
    "Name,PhoneNumber,Age\n",
    "Tom,12345,22\n",
    "Jack,3456,24\n",
    "\"\"\"\n",
    "))"
   ],
   "id": "3a65ebea04382822"
  },
  {
   "metadata": {},
   "cell_type": "code",
   "outputs": [],
   "execution_count": null,
   "source": [
    "import math\n",
    "\n",
    "\n",
    "# Todo: create a sine wave (as values in a list) given a start and end value and given step size:\n",
    "# e.g. create_sine_wave(0, math.pi, 0.5) -> [0., 0.47942554, 0.84147098, 0.99749499, 0.90929743, 0.59847214, 0.14112001]\n",
    "def create_sine_wave(start, stop, step_size):\n",
    "    sine_wave = []\n",
    "    while True:\n",
    "        sine_wave.append(math.sin(start))\n",
    "        start += step_size\n",
    "        if start > stop:\n",
    "            break\n",
    "    return sine_wave\n",
    "\n",
    "print(create_sine_wave(0, math.pi, 0.5))"
   ],
   "id": "613ef2683798ec73"
  }
 ],
 "metadata": {
  "kernelspec": {
   "display_name": "Python 3",
   "language": "python",
   "name": "python3"
  },
  "language_info": {
   "codemirror_mode": {
    "name": "ipython",
    "version": 2
   },
   "file_extension": ".py",
   "mimetype": "text/x-python",
   "name": "python",
   "nbconvert_exporter": "python",
   "pygments_lexer": "ipython2",
   "version": "2.7.6"
  }
 },
 "nbformat": 4,
 "nbformat_minor": 5
}
