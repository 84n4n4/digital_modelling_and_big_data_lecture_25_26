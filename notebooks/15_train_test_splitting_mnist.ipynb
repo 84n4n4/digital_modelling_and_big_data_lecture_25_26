{
 "cells": [
  {
   "metadata": {},
   "cell_type": "markdown",
   "source": "# Train-Test splitting",
   "id": "febc3b1c6f59355b"
  },
  {
   "metadata": {
    "ExecuteTime": {
     "end_time": "2025-10-23T15:14:59.673058Z",
     "start_time": "2025-10-23T15:14:59.669889Z"
    }
   },
   "cell_type": "code",
   "source": [
    "\n",
    "import matplotlib.pyplot as plt\n",
    "import numpy as np\n",
    "\n",
    "from sklearn.datasets import fetch_openml\n",
    "import pandas\n",
    "\n",
    "\n",
    "from sklearn.metrics import classification_report, accuracy_score\n",
    "from sklearn.tree import DecisionTreeClassifier\n",
    "from sklearn.model_selection import train_test_split\n"
   ],
   "id": "e5cd4db05f9995e4",
   "outputs": [],
   "execution_count": 138
  },
  {
   "metadata": {},
   "cell_type": "markdown",
   "source": [
    "## MNIST dataset\n",
    "Labeled dataset of handwritten digits for experiments in OCR (optical character recognition)"
   ],
   "id": "6ba1f1ecf9eb2216"
  },
  {
   "metadata": {
    "ExecuteTime": {
     "end_time": "2025-10-23T15:15:01.440881Z",
     "start_time": "2025-10-23T15:14:59.685790Z"
    }
   },
   "cell_type": "code",
   "source": [
    "# https://www.openml.org/search?type=data&sort=runs&id=554&status=active\n",
    "# https://www.openml.org/d/554\n",
    "X, y = fetch_openml(\"mnist_784\", version=1, return_X_y=True, as_frame=False)"
   ],
   "id": "aa4f6e1dd0536fb6",
   "outputs": [],
   "execution_count": 139
  },
  {
   "metadata": {},
   "cell_type": "markdown",
   "source": "Size of the dataset: 70k items, 784 dimensions each",
   "id": "9ef3331ffd27e96f"
  },
  {
   "metadata": {
    "ExecuteTime": {
     "end_time": "2025-10-23T15:15:01.451369Z",
     "start_time": "2025-10-23T15:15:01.449319Z"
    }
   },
   "cell_type": "code",
   "source": "X.shape\n",
   "id": "initial_id",
   "outputs": [
    {
     "data": {
      "text/plain": [
       "(70000, 784)"
      ]
     },
     "execution_count": 140,
     "metadata": {},
     "output_type": "execute_result"
    }
   ],
   "execution_count": 140
  },
  {
   "metadata": {
    "ExecuteTime": {
     "end_time": "2025-10-23T15:15:01.501346Z",
     "start_time": "2025-10-23T15:15:01.498856Z"
    }
   },
   "cell_type": "code",
   "source": "X[0].shape\n",
   "id": "b660bde9fe728467",
   "outputs": [
    {
     "data": {
      "text/plain": [
       "(784,)"
      ]
     },
     "execution_count": 141,
     "metadata": {},
     "output_type": "execute_result"
    }
   ],
   "execution_count": 141
  },
  {
   "metadata": {},
   "cell_type": "markdown",
   "source": "Lets have a look at some random example.",
   "id": "77da2ca2aacf7a66"
  },
  {
   "metadata": {
    "ExecuteTime": {
     "end_time": "2025-10-23T15:15:01.600903Z",
     "start_time": "2025-10-23T15:15:01.549904Z"
    }
   },
   "cell_type": "code",
   "source": "plt.imshow(X[1].reshape(28,28))\n",
   "id": "f440904510cbbfa6",
   "outputs": [
    {
     "data": {
      "text/plain": [
       "<matplotlib.image.AxesImage at 0x7f9b5706a190>"
      ]
     },
     "execution_count": 142,
     "metadata": {},
     "output_type": "execute_result"
    },
    {
     "data": {
      "text/plain": [
       "<Figure size 640x480 with 1 Axes>"
      ],
      "image/png": "[encoded data removed]"
     },
     "metadata": {},
     "output_type": "display_data"
    }
   ],
   "execution_count": 142
  },
  {
   "metadata": {},
   "cell_type": "markdown",
   "source": "These are stored as brightness values for each pixel on a scale form 0-255",
   "id": "ff1a2cd9e94a6ebe"
  },
  {
   "metadata": {
    "ExecuteTime": {
     "end_time": "2025-10-23T15:15:01.619290Z",
     "start_time": "2025-10-23T15:15:01.615610Z"
    }
   },
   "cell_type": "code",
   "source": [
    "for row in X[1].reshape(28,28):\n",
    "    print(' '.join([str(a).rjust(3) for a in row]))\n"
   ],
   "id": "7834dfb09468adde",
   "outputs": [
    {
     "name": "stdout",
     "output_type": "stream",
     "text": [
      "  0   0   0   0   0   0   0   0   0   0   0   0   0   0   0   0   0   0   0   0   0   0   0   0   0   0   0   0\n",
      "  0   0   0   0   0   0   0   0   0   0   0   0   0   0   0   0   0   0   0   0   0   0   0   0   0   0   0   0\n",
      "  0   0   0   0   0   0   0   0   0   0   0   0   0   0   0   0   0   0   0   0   0   0   0   0   0   0   0   0\n",
      "  0   0   0   0   0   0   0   0   0   0   0   0   0   0   0   0   0   0   0   0   0   0   0   0   0   0   0   0\n",
      "  0   0   0   0   0   0   0   0   0   0   0   0   0   0   0  51 159 253 159  50   0   0   0   0   0   0   0   0\n",
      "  0   0   0   0   0   0   0   0   0   0   0   0   0   0  48 238 252 252 252 237   0   0   0   0   0   0   0   0\n",
      "  0   0   0   0   0   0   0   0   0   0   0   0   0  54 227 253 252 239 233 252  57   6   0   0   0   0   0   0\n",
      "  0   0   0   0   0   0   0   0   0   0   0  10  60 224 252 253 252 202  84 252 253 122   0   0   0   0   0   0\n",
      "  0   0   0   0   0   0   0   0   0   0   0 163 252 252 252 253 252 252  96 189 253 167   0   0   0   0   0   0\n",
      "  0   0   0   0   0   0   0   0   0   0  51 238 253 253 190 114 253 228  47  79 255 168   0   0   0   0   0   0\n",
      "  0   0   0   0   0   0   0   0   0  48 238 252 252 179  12  75 121  21   0   0 253 243  50   0   0   0   0   0\n",
      "  0   0   0   0   0   0   0   0  38 165 253 233 208  84   0   0   0   0   0   0 253 252 165   0   0   0   0   0\n",
      "  0   0   0   0   0   0   0   7 178 252 240  71  19  28   0   0   0   0   0   0 253 252 195   0   0   0   0   0\n",
      "  0   0   0   0   0   0   0  57 252 252  63   0   0   0   0   0   0   0   0   0 253 252 195   0   0   0   0   0\n",
      "  0   0   0   0   0   0   0 198 253 190   0   0   0   0   0   0   0   0   0   0 255 253 196   0   0   0   0   0\n",
      "  0   0   0   0   0   0  76 246 252 112   0   0   0   0   0   0   0   0   0   0 253 252 148   0   0   0   0   0\n",
      "  0   0   0   0   0   0  85 252 230  25   0   0   0   0   0   0   0   0   7 135 253 186  12   0   0   0   0   0\n",
      "  0   0   0   0   0   0  85 252 223   0   0   0   0   0   0   0   0   7 131 252 225  71   0   0   0   0   0   0\n",
      "  0   0   0   0   0   0  85 252 145   0   0   0   0   0   0   0  48 165 252 173   0   0   0   0   0   0   0   0\n",
      "  0   0   0   0   0   0  86 253 225   0   0   0   0   0   0 114 238 253 162   0   0   0   0   0   0   0   0   0\n",
      "  0   0   0   0   0   0  85 252 249 146  48  29  85 178 225 253 223 167  56   0   0   0   0   0   0   0   0   0\n",
      "  0   0   0   0   0   0  85 252 252 252 229 215 252 252 252 196 130   0   0   0   0   0   0   0   0   0   0   0\n",
      "  0   0   0   0   0   0  28 199 252 252 253 252 252 233 145   0   0   0   0   0   0   0   0   0   0   0   0   0\n",
      "  0   0   0   0   0   0   0  25 128 252 253 252 141  37   0   0   0   0   0   0   0   0   0   0   0   0   0   0\n",
      "  0   0   0   0   0   0   0   0   0   0   0   0   0   0   0   0   0   0   0   0   0   0   0   0   0   0   0   0\n",
      "  0   0   0   0   0   0   0   0   0   0   0   0   0   0   0   0   0   0   0   0   0   0   0   0   0   0   0   0\n",
      "  0   0   0   0   0   0   0   0   0   0   0   0   0   0   0   0   0   0   0   0   0   0   0   0   0   0   0   0\n",
      "  0   0   0   0   0   0   0   0   0   0   0   0   0   0   0   0   0   0   0   0   0   0   0   0   0   0   0   0\n"
     ]
    }
   ],
   "execution_count": 143
  },
  {
   "metadata": {},
   "cell_type": "markdown",
   "source": "Curiously - these are not stored as 2d arrays size 28x28, but vectors of length 784. And that is also how we are going to use them in our ML classifiers. We simply say, theres 784 dimensional input and throw the data at the model.",
   "id": "475e35d358c415b7"
  },
  {
   "metadata": {
    "ExecuteTime": {
     "end_time": "2025-10-23T15:15:01.672037Z",
     "start_time": "2025-10-23T15:15:01.668546Z"
    }
   },
   "cell_type": "code",
   "source": "print(' '.join([str(a).rjust(3) for a in X[1]]))",
   "id": "f8775612c4adacee",
   "outputs": [
    {
     "name": "stdout",
     "output_type": "stream",
     "text": [
      "  0   0   0   0   0   0   0   0   0   0   0   0   0   0   0   0   0   0   0   0   0   0   0   0   0   0   0   0   0   0   0   0   0   0   0   0   0   0   0   0   0   0   0   0   0   0   0   0   0   0   0   0   0   0   0   0   0   0   0   0   0   0   0   0   0   0   0   0   0   0   0   0   0   0   0   0   0   0   0   0   0   0   0   0   0   0   0   0   0   0   0   0   0   0   0   0   0   0   0   0   0   0   0   0   0   0   0   0   0   0   0   0   0   0   0   0   0   0   0   0   0   0   0   0   0   0   0  51 159 253 159  50   0   0   0   0   0   0   0   0   0   0   0   0   0   0   0   0   0   0   0   0   0   0  48 238 252 252 252 237   0   0   0   0   0   0   0   0   0   0   0   0   0   0   0   0   0   0   0   0   0  54 227 253 252 239 233 252  57   6   0   0   0   0   0   0   0   0   0   0   0   0   0   0   0   0   0  10  60 224 252 253 252 202  84 252 253 122   0   0   0   0   0   0   0   0   0   0   0   0   0   0   0   0   0 163 252 252 252 253 252 252  96 189 253 167   0   0   0   0   0   0   0   0   0   0   0   0   0   0   0   0  51 238 253 253 190 114 253 228  47  79 255 168   0   0   0   0   0   0   0   0   0   0   0   0   0   0   0  48 238 252 252 179  12  75 121  21   0   0 253 243  50   0   0   0   0   0   0   0   0   0   0   0   0   0  38 165 253 233 208  84   0   0   0   0   0   0 253 252 165   0   0   0   0   0   0   0   0   0   0   0   0   7 178 252 240  71  19  28   0   0   0   0   0   0 253 252 195   0   0   0   0   0   0   0   0   0   0   0   0  57 252 252  63   0   0   0   0   0   0   0   0   0 253 252 195   0   0   0   0   0   0   0   0   0   0   0   0 198 253 190   0   0   0   0   0   0   0   0   0   0 255 253 196   0   0   0   0   0   0   0   0   0   0   0  76 246 252 112   0   0   0   0   0   0   0   0   0   0 253 252 148   0   0   0   0   0   0   0   0   0   0   0  85 252 230  25   0   0   0   0   0   0   0   0   7 135 253 186  12   0   0   0   0   0   0   0   0   0   0   0  85 252 223   0   0   0   0   0   0   0   0   7 131 252 225  71   0   0   0   0   0   0   0   0   0   0   0   0  85 252 145   0   0   0   0   0   0   0  48 165 252 173   0   0   0   0   0   0   0   0   0   0   0   0   0   0  86 253 225   0   0   0   0   0   0 114 238 253 162   0   0   0   0   0   0   0   0   0   0   0   0   0   0   0  85 252 249 146  48  29  85 178 225 253 223 167  56   0   0   0   0   0   0   0   0   0   0   0   0   0   0   0  85 252 252 252 229 215 252 252 252 196 130   0   0   0   0   0   0   0   0   0   0   0   0   0   0   0   0   0  28 199 252 252 253 252 252 233 145   0   0   0   0   0   0   0   0   0   0   0   0   0   0   0   0   0   0   0   0  25 128 252 253 252 141  37   0   0   0   0   0   0   0   0   0   0   0   0   0   0   0   0   0   0   0   0   0   0   0   0   0   0   0   0   0   0   0   0   0   0   0   0   0   0   0   0   0   0   0   0   0   0   0   0   0   0   0   0   0   0   0   0   0   0   0   0   0   0   0   0   0   0   0   0   0   0   0   0   0   0   0   0   0   0   0   0   0   0   0   0   0   0   0   0   0   0   0   0   0   0   0   0   0   0   0   0   0   0   0   0   0   0   0   0   0   0   0   0   0   0   0   0   0   0   0   0   0   0   0   0   0   0\n"
     ]
    }
   ],
   "execution_count": 144
  },
  {
   "metadata": {},
   "cell_type": "markdown",
   "source": "First, lets see hom many of each of the digits are there in the dataset. They are not equally distributed. 5's are the rarest, 1 the most common.",
   "id": "72c1c147272da190"
  },
  {
   "metadata": {
    "ExecuteTime": {
     "end_time": "2025-10-23T15:15:01.777291Z",
     "start_time": "2025-10-23T15:15:01.719178Z"
    }
   },
   "cell_type": "code",
   "source": [
    "pandas.Series(y).value_counts().sort_index().plot(kind='bar')\n",
    "\n"
   ],
   "id": "5e3209e4cb544682",
   "outputs": [
    {
     "data": {
      "text/plain": [
       "<Axes: >"
      ]
     },
     "execution_count": 145,
     "metadata": {},
     "output_type": "execute_result"
    },
    {
     "data": {
      "text/plain": [
       "<Figure size 640x480 with 1 Axes>"
      ],
      "image/png": "[encoded data removed]"
     },
     "metadata": {},
     "output_type": "display_data"
    }
   ],
   "execution_count": 145
  },
  {
   "metadata": {},
   "cell_type": "markdown",
   "source": "For simplicity sake, we only want to have a binary classification problem, so we try to pick 1's and 7's apart.",
   "id": "7f6a84b93b99b8f2"
  },
  {
   "metadata": {
    "ExecuteTime": {
     "end_time": "2025-10-23T15:15:01.787439Z",
     "start_time": "2025-10-23T15:15:01.784151Z"
    }
   },
   "cell_type": "code",
   "source": "index_sevens_and_ones = np.where((y == '7') | (y=='1'))[0]\n",
   "id": "3842e1dbd466caff",
   "outputs": [],
   "execution_count": 146
  },
  {
   "metadata": {
    "ExecuteTime": {
     "end_time": "2025-10-23T15:15:01.888361Z",
     "start_time": "2025-10-23T15:15:01.828359Z"
    }
   },
   "cell_type": "code",
   "source": [
    "Xb = X[index_sevens_and_ones]\n",
    "yb = y[index_sevens_and_ones]\n",
    "\n"
   ],
   "id": "7401662b6f9cfcce",
   "outputs": [],
   "execution_count": 147
  },
  {
   "metadata": {
    "ExecuteTime": {
     "end_time": "2025-10-23T15:15:01.936317Z",
     "start_time": "2025-10-23T15:15:01.897299Z"
    }
   },
   "cell_type": "code",
   "source": [
    "pandas.Series(yb).value_counts().sort_index().plot(kind='bar')\n",
    "plt.show() \n"
   ],
   "id": "76bc0cb029ab9f8f",
   "outputs": [
    {
     "data": {
      "text/plain": [
       "<Figure size 640x480 with 1 Axes>"
      ],
      "image/png": "[encoded data removed]"
     },
     "metadata": {},
     "output_type": "display_data"
    }
   ],
   "execution_count": 148
  },
  {
   "metadata": {},
   "cell_type": "markdown",
   "source": [
    "## Classification model\n",
    "Lets train a classifier to predict those and evaluate the predictions"
   ],
   "id": "f30b3f94eef0bd5f"
  },
  {
   "metadata": {
    "ExecuteTime": {
     "end_time": "2025-10-23T15:20:47.428540Z",
     "start_time": "2025-10-23T15:20:46.824062Z"
    }
   },
   "cell_type": "code",
   "source": [
    "clf = DecisionTreeClassifier(max_depth=6, random_state=42)\n",
    "clf.fit(Xb, yb)\n",
    "y_pred = clf.predict(Xb)\n",
    "print(accuracy_score(yb, y_pred))\n",
    "print(classification_report(yb, y_pred))"
   ],
   "id": "ac1d18b67cc85842",
   "outputs": [
    {
     "name": "stdout",
     "output_type": "stream",
     "text": [
      "0.9958470665787739\n",
      "              precision    recall  f1-score   support\n",
      "\n",
      "           1       1.00      1.00      1.00      7877\n",
      "           7       1.00      1.00      1.00      7293\n",
      "\n",
      "    accuracy                           1.00     15170\n",
      "   macro avg       1.00      1.00      1.00     15170\n",
      "weighted avg       1.00      1.00      1.00     15170\n",
      "\n"
     ]
    }
   ],
   "execution_count": 161
  },
  {
   "metadata": {},
   "cell_type": "markdown",
   "source": "Ok, almost perfect. But it has see all of that data in training, what happens if we do a train-test-split and separate some data for testing before we start the training.",
   "id": "f6bcad3a0e85b105"
  },
  {
   "metadata": {
    "ExecuteTime": {
     "end_time": "2025-10-23T15:21:04.368084Z",
     "start_time": "2025-10-23T15:21:04.040677Z"
    }
   },
   "cell_type": "code",
   "source": [
    "X_train, X_test, y_train, y_test = train_test_split(Xb, yb, test_size=0.1, random_state=19)\n",
    "clf_n = DecisionTreeClassifier(max_depth=6, random_state=42)\n",
    "clf_n.fit(X_train, y_train)\n",
    "y_pred_n = clf_n.predict(X_test)\n",
    "print(accuracy_score(y_test, y_pred_n))\n",
    "print(classification_report(y_test, y_pred_n))\n"
   ],
   "id": "a620b6312f8236ed",
   "outputs": [
    {
     "name": "stdout",
     "output_type": "stream",
     "text": [
      "0.9866842452208305\n",
      "              precision    recall  f1-score   support\n",
      "\n",
      "           1       0.99      0.98      0.99      3972\n",
      "           7       0.98      0.99      0.99      3613\n",
      "\n",
      "    accuracy                           0.99      7585\n",
      "   macro avg       0.99      0.99      0.99      7585\n",
      "weighted avg       0.99      0.99      0.99      7585\n",
      "\n"
     ]
    }
   ],
   "execution_count": 162
  },
  {
   "metadata": {},
   "cell_type": "markdown",
   "source": "Still good, but noticably worse than above.",
   "id": "2590c7ca6dfbe051"
  },
  {
   "metadata": {},
   "cell_type": "markdown",
   "source": "**Exercise** *: Change the parameter random_state in the train_test_split method above (the split is done at random, and by changing this parameter you will get another random split, but most likely different than before), and rerun the training and evaluation.",
   "id": "354165356ff0dde1"
  },
  {
   "metadata": {
    "ExecuteTime": {
     "end_time": "2025-10-23T15:15:03.208842Z",
     "start_time": "2025-10-23T15:15:03.207010Z"
    }
   },
   "cell_type": "code",
   "source": "",
   "id": "671a831f889cc5bd",
   "outputs": [],
   "execution_count": null
  },
  {
   "metadata": {},
   "cell_type": "markdown",
   "source": "**Exercise** *: Change the test_size parameter and rerun the experiment.",
   "id": "5905ab814d41a2d"
  },
  {
   "metadata": {
    "ExecuteTime": {
     "end_time": "2025-10-23T15:15:03.254050Z",
     "start_time": "2025-10-23T15:15:03.252159Z"
    }
   },
   "cell_type": "code",
   "source": "",
   "id": "89d971894331e845",
   "outputs": [],
   "execution_count": null
  }
 ],
 "metadata": {
  "kernelspec": {
   "display_name": "Python 3",
   "language": "python",
   "name": "python3"
  },
  "language_info": {
   "codemirror_mode": {
    "name": "ipython",
    "version": 2
   },
   "file_extension": ".py",
   "mimetype": "text/x-python",
   "name": "python",
   "nbconvert_exporter": "python",
   "pygments_lexer": "ipython2",
   "version": "2.7.6"
  }
 },
 "nbformat": 4,
 "nbformat_minor": 5
}
