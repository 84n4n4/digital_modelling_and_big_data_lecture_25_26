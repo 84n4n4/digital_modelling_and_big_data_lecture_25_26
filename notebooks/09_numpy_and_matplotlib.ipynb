{
 "cells": [
  {
   "metadata": {},
   "cell_type": "markdown",
   "source": "# Maths and data science libraries",
   "id": "47b29c29ed699a9a"
  },
  {
   "metadata": {},
   "cell_type": "markdown",
   "source": "# Numpy",
   "id": "4323c90236a99781"
  },
  {
   "metadata": {},
   "cell_type": "markdown",
   "source": "Numpy is a module for numerical computing. Mostly built around working with multi dimensional matrices in a highly performant way.",
   "id": "8705d70b78766bea"
  },
  {
   "metadata": {},
   "cell_type": "code",
   "source": [
    "import numpy as np\n",
    "np.array([[1,2,3],[4,5,6],[7,8,9]])\n"
   ],
   "id": "initial_id",
   "outputs": [],
   "execution_count": null
  },
  {
   "metadata": {},
   "cell_type": "markdown",
   "source": "Useful methods for creating matrices and vectors",
   "id": "399e3920171aaf2a"
  },
  {
   "metadata": {},
   "cell_type": "code",
   "source": [
    "print(np.zeros((3,3)))\n",
    "print(np.ones((3,3)))"
   ],
   "id": "229f5875935778bd",
   "outputs": [],
   "execution_count": null
  },
  {
   "metadata": {},
   "cell_type": "markdown",
   "source": "arange works similar to python built in range but can deal with floats",
   "id": "805ef844a2fd86ef"
  },
  {
   "metadata": {},
   "cell_type": "code",
   "source": "print(np.arange(0, 10, 0.1))",
   "id": "62f7ce79ec79cb6f",
   "outputs": [],
   "execution_count": null
  },
  {
   "metadata": {},
   "cell_type": "markdown",
   "source": "linspace provides a specified number of equally spaced samples from a range",
   "id": "7499bf7a1b16a286"
  },
  {
   "metadata": {},
   "cell_type": "code",
   "source": "print(np.linspace(0,10e5, num=5))",
   "id": "3a033ef2416ad769",
   "outputs": [],
   "execution_count": null
  },
  {
   "metadata": {},
   "cell_type": "markdown",
   "source": "Applying maths operations to a whole vector or matrix of data\n",
   "id": "bcdf795a7879ab67"
  },
  {
   "metadata": {},
   "cell_type": "code",
   "source": [
    "a = np.arange(0, np.pi*2, 0.1)\n",
    "np.sin(a)"
   ],
   "id": "809889425e53fa0a",
   "outputs": [],
   "execution_count": null
  },
  {
   "metadata": {},
   "cell_type": "markdown",
   "source": "Adding and multiplying vectors (element wise)",
   "id": "ff3214516ca70959"
  },
  {
   "metadata": {},
   "cell_type": "code",
   "source": [
    "a = np.array([0, 1, 2, 3, 4, 5, 6, 7, 8, 9])\n",
    "b = np.array([10, 11, 12, 13, 14, 15, 16, 17, 18, 19])\n",
    "\n",
    "print(a + b)\n",
    "print(a * b)"
   ],
   "id": "d0fc6de137c3be91",
   "outputs": [],
   "execution_count": null
  },
  {
   "metadata": {},
   "cell_type": "markdown",
   "source": "Performing actual matrix multiplications",
   "id": "6c712fdbf69f5d73"
  },
  {
   "metadata": {},
   "cell_type": "code",
   "source": [
    "a = np.array([[1, 2, 3],\n",
    "              [4, 5, 6]])\n",
    "\n",
    "b = np.array([[7, 8],\n",
    "              [9, 10],\n",
    "              [11, 12]])\n",
    "\n",
    "c = np.dot(a, b)\n",
    "print(c)"
   ],
   "id": "61030ca06ec328b0",
   "outputs": [],
   "execution_count": null
  },
  {
   "metadata": {},
   "cell_type": "markdown",
   "source": "Row vectors, column vectors and reshaping",
   "id": "e8b71411f59086ef"
  },
  {
   "metadata": {},
   "cell_type": "code",
   "source": [
    "a = np.array([1, 2, 3, 4, 5, 6])\n",
    "\n",
    "row_vector = a[np.newaxis, :]\n",
    "print(row_vector)\n",
    "\n",
    "col_vector = a[:, np.newaxis]\n",
    "print(col_vector)\n",
    "\n",
    "matrix = np.reshape(a, (3, 2))\n",
    "print(matrix)"
   ],
   "id": "ebe92e27b43ca06c",
   "outputs": [],
   "execution_count": null
  },
  {
   "metadata": {},
   "cell_type": "markdown",
   "source": "Creating random numers using rand and the shape of the desired output",
   "id": "dad88cf8d6ed3733"
  },
  {
   "metadata": {},
   "cell_type": "code",
   "source": "np.random.rand(3,2)",
   "id": "e03cb1e9d2f50381",
   "outputs": [],
   "execution_count": null
  },
  {
   "metadata": {},
   "cell_type": "markdown",
   "source": "Numpy can do a LOT, and the documentation is great https://numpy.org/doc/stable/user/",
   "id": "62d1a5a09f1df9be"
  },
  {
   "metadata": {},
   "cell_type": "markdown",
   "source": "**Exercise** * : Calculate the mean of [1,2,3,4,5,6,7,8,9,10,11,12]",
   "id": "199181906b1423bb"
  },
  {
   "metadata": {},
   "cell_type": "code",
   "source": "",
   "id": "9b5c9dfdefa0b104",
   "outputs": [],
   "execution_count": null
  },
  {
   "metadata": {},
   "cell_type": "markdown",
   "source": "**Exercise** **: Calculate the row and column wise sums of [[1, 2, 3], [4, 5, 6], [7, 8, 9]]",
   "id": "6d00bd2570996e20"
  },
  {
   "metadata": {},
   "cell_type": "code",
   "source": "",
   "id": "40699222dd8946b8",
   "outputs": [],
   "execution_count": null
  },
  {
   "metadata": {},
   "cell_type": "markdown",
   "source": "**Exercise** **: create two random vectors length 10 containing floats between 1 and 10",
   "id": "ad00417240d7c0e9"
  },
  {
   "metadata": {},
   "cell_type": "code",
   "source": "",
   "id": "4d08c73ff692e607",
   "outputs": [],
   "execution_count": null
  },
  {
   "metadata": {},
   "cell_type": "markdown",
   "source": "**Exercise** **: use the two vectors above and treat them as a and b of a right triangle and calculate c for all 10 values",
   "id": "35f30d160e7f39dc"
  },
  {
   "metadata": {},
   "cell_type": "code",
   "source": "",
   "id": "6267d5ab2307caa",
   "outputs": [],
   "execution_count": null
  },
  {
   "metadata": {},
   "cell_type": "markdown",
   "source": "# Matplotlib",
   "id": "37cec0c1876ba2ac"
  },
  {
   "metadata": {},
   "cell_type": "markdown",
   "source": "Matplotlib is a library for visualization and plotting. (Also, see how modules can contain other modules)",
   "id": "3c6b1c80601350fc"
  },
  {
   "metadata": {},
   "cell_type": "code",
   "source": [
    "import matplotlib.pyplot as plt\n",
    "import numpy as np\n",
    "\n",
    "x = np.arange(0,10,0.01)\n",
    "y = np.sin(x)\n",
    "\n",
    "plt.plot(x, y)\n",
    "plt.show()"
   ],
   "id": "37e38445efdecbd1",
   "outputs": [],
   "execution_count": null
  },
  {
   "metadata": {},
   "cell_type": "markdown",
   "source": "Lets use numpy to calculate the gradient (numerically, hence approximate derivative) from that sine wave",
   "id": "fdac097f8aaba98d"
  },
  {
   "metadata": {},
   "cell_type": "code",
   "source": [
    "dy_dx = np.gradient(y, x)\n",
    "\n",
    "plt.plot(x, y, label='sine') \n",
    "plt.plot(x, dy_dx, label='gradient')\n",
    "plt.legend()\n",
    "plt.show()"
   ],
   "id": "2aaf7bd46d7b8b39",
   "outputs": [],
   "execution_count": null
  },
  {
   "metadata": {},
   "cell_type": "markdown",
   "source": "Fourier Transformations example",
   "id": "aca91401c24146be"
  },
  {
   "metadata": {},
   "cell_type": "code",
   "source": [
    "import numpy as np\n",
    "import matplotlib.pyplot as plt\n",
    "from scipy import signal\n",
    "\n",
    "x = np.linspace(0, 2 * np.pi, 1000)\n",
    "y_square = signal.square(x)\n",
    "\n",
    "y_fft = np.fft.fft(y_square)\n",
    "frequencies = np.fft.fftfreq(len(x), d=(x[1] - x[0]))\n",
    "\n",
    "y_reconstructed = np.zeros_like(y_square, dtype=float)\n",
    "\n",
    "for harmonic in range(1, 20, 2):\n",
    "    idx_pos = np.argmin(np.abs(frequencies - harmonic / (2 * np.pi)))\n",
    "    amplitude = np.abs(2 * y_fft[idx_pos]) / len(x)\n",
    "    phase = np.angle(y_fft[idx_pos])\n",
    "    y_reconstructed += amplitude * np.cos(harmonic * x + phase)\n",
    "\n",
    "\n",
    "plt.plot(x, y_square)\n",
    "plt.plot(x, y_reconstructed)\n",
    "\n",
    "plt.show()"
   ],
   "id": "770cc51e410b0ee4",
   "outputs": [],
   "execution_count": null
  },
  {
   "metadata": {},
   "cell_type": "markdown",
   "source": "**Exercise** **: plot a sine wave, square wave and triangle (sawtooth) wave in the same plot for 1000 values between 0 and 20",
   "id": "e80b078538200c16"
  },
  {
   "metadata": {},
   "cell_type": "code",
   "source": "",
   "id": "74ad965329336b03",
   "outputs": [],
   "execution_count": null
  },
  {
   "metadata": {},
   "cell_type": "markdown",
   "source": "",
   "id": "7c5b6de39c225012"
  }
 ],
 "metadata": {
  "kernelspec": {
   "display_name": "Python 3",
   "language": "python",
   "name": "python3"
  },
  "language_info": {
   "codemirror_mode": {
    "name": "ipython",
    "version": 2
   },
   "file_extension": ".py",
   "mimetype": "text/x-python",
   "name": "python",
   "nbconvert_exporter": "python",
   "pygments_lexer": "ipython2",
   "version": "2.7.6"
  }
 },
 "nbformat": 4,
 "nbformat_minor": 5
}
