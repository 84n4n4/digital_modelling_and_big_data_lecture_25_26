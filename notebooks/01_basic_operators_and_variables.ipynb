{
 "cells": [
  {
   "metadata": {},
   "cell_type": "markdown",
   "source": "# Basic maths operators",
   "id": "47165c97e39d135c"
  },
  {
   "metadata": {},
   "cell_type": "markdown",
   "source": "Basic maths operations in Python work the same as in a calculator.",
   "id": "6a0b99a08c826896"
  },
  {
   "metadata": {},
   "cell_type": "code",
   "source": "3 + 6",
   "id": "initial_id",
   "outputs": [],
   "execution_count": null
  },
  {
   "metadata": {},
   "cell_type": "code",
   "source": "5 * 3",
   "id": "f35b15606ff5f700",
   "outputs": [],
   "execution_count": null
  },
  {
   "metadata": {},
   "cell_type": "code",
   "source": "3 * (5 - 3)",
   "id": "33d4ebd6845fa63c",
   "outputs": [],
   "execution_count": null
  },
  {
   "metadata": {},
   "cell_type": "code",
   "source": "10 / 3",
   "id": "d30bc2fbd05a77d5",
   "outputs": [],
   "execution_count": null
  },
  {
   "metadata": {},
   "cell_type": "markdown",
   "source": "**Exercise** *: Calculate the sum of the numbers [5, 4, 3, 2, 1]",
   "id": "6a2fa76e4d3ea56f"
  },
  {
   "metadata": {},
   "cell_type": "code",
   "source": "",
   "id": "c91f8fcea6a7f415",
   "outputs": [],
   "execution_count": null
  },
  {
   "metadata": {},
   "cell_type": "markdown",
   "source": "**Exercise** *: Calculate the product of product of [5, 4, 3, 2, 1]",
   "id": "55a541f4a72c5886"
  },
  {
   "metadata": {},
   "cell_type": "code",
   "source": "",
   "id": "bdcccf2df7cc7917",
   "outputs": [],
   "execution_count": null
  },
  {
   "metadata": {},
   "cell_type": "code",
   "source": "",
   "id": "836888b96794d433",
   "outputs": [],
   "execution_count": null
  },
  {
   "metadata": {},
   "cell_type": "markdown",
   "source": "**Exercise** **: Calculate the mean of [5, 4, 3, 2, 1]",
   "id": "98f8ff70179ec456"
  },
  {
   "metadata": {},
   "cell_type": "code",
   "source": "",
   "id": "e8a782da6d8510ed",
   "outputs": [],
   "execution_count": null
  },
  {
   "metadata": {},
   "cell_type": "markdown",
   "source": "# Basic logic operators",
   "id": "b04d62198ab3ab7f"
  },
  {
   "metadata": {},
   "cell_type": "markdown",
   "source": "Logic operators in python work like electronic logic gates.",
   "id": "376837cb81bb974e"
  },
  {
   "metadata": {},
   "cell_type": "code",
   "source": "True or False",
   "id": "dddd7c6255dd9fe8",
   "outputs": [],
   "execution_count": null
  },
  {
   "metadata": {},
   "cell_type": "code",
   "source": "False or False",
   "id": "e33f2fd88072b6f4",
   "outputs": [],
   "execution_count": null
  },
  {
   "metadata": {},
   "cell_type": "code",
   "source": "True and False",
   "id": "5005bd7894a59184",
   "outputs": [],
   "execution_count": null
  },
  {
   "metadata": {},
   "cell_type": "code",
   "source": "True and not False",
   "id": "83318b85a93a5868",
   "outputs": [],
   "execution_count": null
  },
  {
   "metadata": {},
   "cell_type": "markdown",
   "source": "**Exercise** *: What is the result of 'or'-ing more three or more Falses together",
   "id": "49206ac5ac03c2a3"
  },
  {
   "metadata": {},
   "cell_type": "code",
   "source": "",
   "id": "823917f826f2ae80",
   "outputs": [],
   "execution_count": null
  },
  {
   "metadata": {},
   "cell_type": "markdown",
   "source": "**Exercise** *: What is the result of 'or'-ing more three or more Falses together with one True",
   "id": "61b6aa29cd412b3b"
  },
  {
   "metadata": {},
   "cell_type": "code",
   "source": "",
   "id": "d00e765aff2b05a",
   "outputs": [],
   "execution_count": null
  },
  {
   "metadata": {},
   "cell_type": "markdown",
   "source": "**Exercise** *: Same as above with 'and'\n",
   "id": "e21789c426b8ecde"
  },
  {
   "metadata": {},
   "cell_type": "code",
   "source": "",
   "id": "9b023637dc26efc4",
   "outputs": [],
   "execution_count": null
  },
  {
   "metadata": {},
   "cell_type": "markdown",
   "source": "# Variables",
   "id": "79bc8c38a09d3392"
  },
  {
   "metadata": {},
   "cell_type": "markdown",
   "source": "Variables can be assigned and operations then performed using those variables.",
   "id": "aa4f683e9935ebc9"
  },
  {
   "metadata": {},
   "cell_type": "code",
   "source": [
    "a = 5\n",
    "b = 4\n",
    "c = a + b\n",
    "print(c)"
   ],
   "id": "98a552f7c4b6a22c",
   "outputs": [],
   "execution_count": null
  },
  {
   "metadata": {},
   "cell_type": "markdown",
   "source": "Variables have to be assigned before using them",
   "id": "d209d74b70a7bb"
  },
  {
   "metadata": {},
   "cell_type": "code",
   "source": [
    "a = 5\n",
    "c = a + x\n",
    "x = 10\n",
    "print(c)"
   ],
   "id": "1db05abe0ee19732",
   "outputs": [],
   "execution_count": null
  },
  {
   "metadata": {},
   "cell_type": "markdown",
   "source": "While non-sensical in algebra, a statment in the form of $c = c + 1$ is common in programming.",
   "id": "2c53b296b6df4ff2"
  },
  {
   "metadata": {},
   "cell_type": "code",
   "source": [
    "c = 4\n",
    "c = c + 1\n",
    "print(c)"
   ],
   "id": "37a824e33b233aca",
   "outputs": [],
   "execution_count": null
  },
  {
   "metadata": {},
   "cell_type": "markdown",
   "source": "Since the above is quite common, theres a shortcuts for this type of operation:",
   "id": "7fbdeb6d4f1d382f"
  },
  {
   "metadata": {},
   "cell_type": "code",
   "source": [
    "c = 4\n",
    "c += 1\n",
    "print(c)\n",
    "c *= 5\n",
    "print(c)\n",
    "c /= 10\n",
    "print(c)"
   ],
   "id": "257f7f65edbac3a5",
   "outputs": [],
   "execution_count": null
  },
  {
   "metadata": {},
   "cell_type": "markdown",
   "source": "**Exercise** *: Define two variables `m` and `n` to the values 4 and 5, calculate the sum and put it in variable `o` and print `o`",
   "id": "42441f78e02125e2"
  },
  {
   "metadata": {},
   "cell_type": "code",
   "source": "",
   "id": "28c9c45435592531",
   "outputs": [],
   "execution_count": null
  },
  {
   "metadata": {},
   "cell_type": "markdown",
   "source": "**Exercise** *: Define two variables `m` and `n` to the values 4 and 5, calculate the percentage of `n` of `m`",
   "id": "2b0f1b889c9f15d9"
  },
  {
   "metadata": {},
   "cell_type": "code",
   "source": "",
   "id": "be60071ab5829ab1",
   "outputs": [],
   "execution_count": null
  },
  {
   "metadata": {},
   "cell_type": "markdown",
   "source": "**Exercise** ***: Reformulate `n and m and o` using only `or` and `not` to get the same result for all possible inputs. (hint: google 'de morgan substitution')\n",
   "id": "7853cee34b43e92c"
  },
  {
   "metadata": {},
   "cell_type": "code",
   "source": [
    "n, m, o = (True, True, True)\n",
    "print(n and m and o)\n",
    "\n",
    "print('your formula goes here')\n",
    "\n"
   ],
   "id": "d5afbfb0ed13dfb1",
   "outputs": [],
   "execution_count": null
  },
  {
   "metadata": {},
   "cell_type": "markdown",
   "source": "# Basic comparisons",
   "id": "c5c1691c41b68553"
  },
  {
   "metadata": {},
   "cell_type": "code",
   "source": "5 == 5",
   "id": "423335b7e2c641ae",
   "outputs": [],
   "execution_count": null
  },
  {
   "metadata": {},
   "cell_type": "code",
   "source": "5 == 6",
   "id": "8446e9ea5f3b50af",
   "outputs": [],
   "execution_count": null
  },
  {
   "metadata": {},
   "cell_type": "code",
   "source": "5 != 6",
   "id": "806271f214b32117",
   "outputs": [],
   "execution_count": null
  },
  {
   "metadata": {},
   "cell_type": "code",
   "source": "5 > 6",
   "id": "651341a185004c59",
   "outputs": [],
   "execution_count": null
  },
  {
   "metadata": {},
   "cell_type": "code",
   "source": "4 <= 4",
   "id": "c201f78d5e8ce51c",
   "outputs": [],
   "execution_count": null
  },
  {
   "metadata": {},
   "cell_type": "markdown",
   "source": "**Exercise** *: Define variables `m` and `n` to 4.0 and 4 and",
   "id": "85fe025c4ce39d04"
  },
  {
   "metadata": {},
   "cell_type": "code",
   "source": "",
   "id": "f91913ca318ee8d8",
   "outputs": [],
   "execution_count": null
  },
  {
   "metadata": {},
   "cell_type": "markdown",
   "source": "**Exercise** **: At which point is 4.000..001 close enough to 4 so that python says its equal to 4. In short, how many zeros does it take to have python say 4 == 4.000...00001 is true?\n",
   "id": "948e3082fcdcae78"
  },
  {
   "metadata": {},
   "cell_type": "code",
   "source": "",
   "id": "8f12eeac7ba6e660",
   "outputs": [],
   "execution_count": null
  },
  {
   "metadata": {},
   "cell_type": "markdown",
   "source": "**Exercise** ***: How many zeros behind the comma to have pyhton say 4 == 4.000..001 is True - Now, how many zeros behind the comma to have 4000 == 4000.000..001. It seems there is a difference in precision. Explain why.",
   "id": "7065e46aa3bdf893"
  },
  {
   "metadata": {},
   "cell_type": "code",
   "outputs": [],
   "execution_count": null,
   "source": "",
   "id": "395cc63e8d5b9531"
  },
  {
   "metadata": {},
   "cell_type": "markdown",
   "source": "# Commments",
   "id": "6726df56a4840e4d"
  },
  {
   "metadata": {},
   "cell_type": "code",
   "source": "# 5 + 6",
   "id": "8c00dd935330ef6a",
   "outputs": [],
   "execution_count": null
  },
  {
   "metadata": {},
   "cell_type": "code",
   "source": "5 + 6 # adds 5 and 6",
   "id": "683d426da3cf009b",
   "outputs": [],
   "execution_count": null
  },
  {
   "metadata": {},
   "cell_type": "code",
   "source": "5 + # addition 6",
   "id": "9125878b3ff67543",
   "outputs": [],
   "execution_count": null
  },
  {
   "metadata": {},
   "cell_type": "markdown",
   "source": "**Exercise** *: Take the equation from last exercise and write add some comments",
   "id": "585e70e5431a917e"
  },
  {
   "metadata": {},
   "cell_type": "code",
   "source": "",
   "id": "e973851c4b2025e1",
   "outputs": [],
   "execution_count": null
  },
  {
   "metadata": {},
   "cell_type": "markdown",
   "source": "**Exercise** **: Create a multi line comment (theres another feature in python than # that makes this easier)",
   "id": "3c7b63b6314a7a99"
  },
  {
   "metadata": {},
   "cell_type": "code",
   "source": "",
   "id": "37d8499f6cc57102",
   "outputs": [],
   "execution_count": null
  },
  {
   "metadata": {},
   "cell_type": "markdown",
   "source": "# Python conventions\n",
   "id": "3e44e7627c7a7403"
  },
  {
   "metadata": {},
   "cell_type": "markdown",
   "source": "Variable naming conventions",
   "id": "e31e7c76026cccc7"
  },
  {
   "metadata": {},
   "cell_type": "code",
   "source": [
    "number_of_beans = 5 # Variables are lower case with _ as word seperator (-> snake case)\n",
    "DAYS_PER_WEEK = 7 # Constants are all caps"
   ],
   "id": "7549b1650c7eec9d",
   "outputs": [],
   "execution_count": null
  },
  {
   "metadata": {},
   "cell_type": "markdown",
   "source": "Variables cannot consist only of numerals, cannot start with a numeral, and cannot contain operators ('+ - / +' and so on)",
   "id": "56991d35f590c82d"
  },
  {
   "metadata": {},
   "cell_type": "code",
   "source": "3a = 23",
   "id": "a1812a1fb48d4d16",
   "outputs": [],
   "execution_count": null
  },
  {
   "metadata": {},
   "cell_type": "markdown",
   "source": "Python is case sensitive",
   "id": "f4a32bcdd356b655"
  },
  {
   "metadata": {},
   "cell_type": "code",
   "source": [
    "a = 5\n",
    "print(A)"
   ],
   "id": "3c7b0cf83504290a",
   "outputs": [],
   "execution_count": null
  },
  {
   "metadata": {},
   "cell_type": "markdown",
   "source": "Keywords of the python language are not allowed to be used as variable names",
   "id": "75e40ef233916225"
  },
  {
   "metadata": {},
   "cell_type": "code",
   "source": [
    "import keyword\n",
    "\n",
    "print(keyword.kwlist)"
   ],
   "id": "3db51b4fd53326d7",
   "outputs": [],
   "execution_count": null
  },
  {
   "metadata": {},
   "cell_type": "code",
   "source": "break = 'Hello World'",
   "id": "6a122c750a8677a",
   "outputs": [],
   "execution_count": null
  },
  {
   "metadata": {},
   "cell_type": "markdown",
   "source": "Python is dynamically typed and object oriented",
   "id": "d1aacada05bc8b98"
  },
  {
   "metadata": {},
   "cell_type": "code",
   "source": [
    "a = [1, 2, 3]\n",
    "print(type(a))\n",
    "a = a[0]\n",
    "print(type(a))\n",
    "a = str(a)\n",
    "print(type(a))"
   ],
   "id": "9ea6439b968a8ac2",
   "outputs": [],
   "execution_count": null
  }
 ],
 "metadata": {
  "kernelspec": {
   "display_name": "Python 3",
   "language": "python",
   "name": "python3"
  },
  "language_info": {
   "codemirror_mode": {
    "name": "ipython",
    "version": 2
   },
   "file_extension": ".py",
   "mimetype": "text/x-python",
   "name": "python",
   "nbconvert_exporter": "python",
   "pygments_lexer": "ipython2",
   "version": "2.7.6"
  }
 },
 "nbformat": 4,
 "nbformat_minor": 5
}
