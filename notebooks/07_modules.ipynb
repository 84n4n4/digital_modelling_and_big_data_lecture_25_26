{
 "cells": [
  {
   "metadata": {},
   "cell_type": "markdown",
   "source": "# Modules",
   "id": "47b29c29ed699a9a"
  },
  {
   "metadata": {},
   "cell_type": "markdown",
   "source": "Modules are packages of python code that you can import and reuse. Some modules are included in python, and a huge amount is available but has to be installed first. (thats what anaconda helps you to manage)",
   "id": "ee27a46f904a26d5"
  },
  {
   "metadata": {},
   "cell_type": "code",
   "source": [
    "import math\n",
    "\n",
    "print(math.e)\n",
    "print(math.pi)\n",
    "\n",
    "print(math.sin(math.pi/2))"
   ],
   "id": "5ba050cb00d8baef",
   "outputs": [],
   "execution_count": null
  },
  {
   "metadata": {},
   "cell_type": "markdown",
   "source": "Contents of modules can also be directly imported",
   "id": "58e6dae89588a41a"
  },
  {
   "metadata": {},
   "cell_type": "code",
   "source": [
    "from math import cos, pi\n",
    "print(cos(2*pi))"
   ],
   "id": "764096c596b91f55",
   "outputs": [],
   "execution_count": null
  },
  {
   "metadata": {},
   "cell_type": "markdown",
   "source": "And modules can be given aliases\n",
   "id": "8941d6df287b0625"
  },
  {
   "metadata": {},
   "cell_type": "code",
   "source": [
    "import math as m\n",
    "\n",
    "print(m.sqrt(2))"
   ],
   "id": "c229ff2a60063d47",
   "outputs": [],
   "execution_count": null
  },
  {
   "metadata": {},
   "cell_type": "markdown",
   "source": "**Exercise** *: Import `pandas` module",
   "id": "7e33e86233644ad0"
  },
  {
   "metadata": {},
   "cell_type": "code",
   "outputs": [],
   "execution_count": null,
   "source": "",
   "id": "42983187b0dd399e"
  },
  {
   "metadata": {},
   "cell_type": "markdown",
   "source": "**Exercise** *: Import `numpy` module with the given name `np`\n",
   "id": "ebb48e4ca69add44"
  },
  {
   "metadata": {},
   "cell_type": "code",
   "outputs": [],
   "execution_count": null,
   "source": "",
   "id": "6481d81b50ffe88e"
  }
 ],
 "metadata": {
  "kernelspec": {
   "display_name": "Python 3",
   "language": "python",
   "name": "python3"
  },
  "language_info": {
   "codemirror_mode": {
    "name": "ipython",
    "version": 2
   },
   "file_extension": ".py",
   "mimetype": "text/x-python",
   "name": "python",
   "nbconvert_exporter": "python",
   "pygments_lexer": "ipython2",
   "version": "2.7.6"
  }
 },
 "nbformat": 4,
 "nbformat_minor": 5
}
