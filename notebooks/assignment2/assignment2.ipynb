{
 "cells": [
  {
   "metadata": {},
   "cell_type": "markdown",
   "source": [
    "# Assignment 2\n",
    "\n",
    "Perform the tasks detailed in the Todo's\n",
    "Do not change the methods names and signature (unless explicitely asked to do so in the todo)\n",
    "You are free to add new functions as long as they do not shadow existing function names.\n",
    "\n",
    "IF ALREADY KNOW PYTHON AND THIS IS BORING TO YOU:\n",
    "'\\*\\*\\*' Version of this:\n",
    "Implement all tasks in polars (https://docs.pola.rs/) instead. '\\*\\*\\*\\*': Bonus, use timeit (https://docs.python.org/3/library/timeit.html) and determine if and by how much it is faster than the pandas version.\n"
   ],
   "id": "b60623fb16fe0c99"
  },
  {
   "metadata": {},
   "cell_type": "code",
   "outputs": [],
   "execution_count": null,
   "source": [
    "\n",
    "import pandas\n",
    "import numpy as np"
   ],
   "id": "39376b87d985e12a"
  },
  {
   "metadata": {},
   "cell_type": "code",
   "outputs": [],
   "execution_count": null,
   "source": [
    "\n",
    "# Todo: create a sine wave USING NUMPY given a start and end value and given step size:\n",
    "def create_sine_wave(start, stop, step_size):\n",
    "    pass\n",
    "\n",
    "print(create_sine_wave(0, 10, 0.1))"
   ],
   "id": "a67d636f460c833a"
  },
  {
   "metadata": {},
   "cell_type": "code",
   "outputs": [],
   "execution_count": null,
   "source": [
    "\n",
    "# Todo - Sort the dataframe df by height in ascending order and return the sorted dataframe\n",
    "def sort_by_height(df):\n",
    "    pass\n",
    "\n",
    "data = {\n",
    "    'Name': ['Alice', 'Bob', 'Charlie', 'Diana', 'Edward', 'Fiona', 'George', 'Hannah', 'Ivan', 'Julia'],\n",
    "    'Height': [165, 170, 175, 160, 180, 155, 168, 172, 178, 169],\n",
    "    'Age': [25, 32, 40, 22, 28, 30, 35, 26, 41, 29],\n",
    "    'YearsStudying': [2, 5, 4, 1, 4, 4, 7, 3, 6, 2],\n",
    "    'Sex': ['Female', 'Male', 'Male', 'Female', 'Male', 'Female', 'Male', 'Female', 'Male', 'Female']\n",
    "}\n",
    "\n",
    "dframe = pandas.DataFrame(data)\n",
    "\n",
    "print(sort_by_height(dframe))\n",
    "\n"
   ],
   "id": "70e47267c83eb954"
  },
  {
   "metadata": {},
   "cell_type": "code",
   "outputs": [],
   "execution_count": null,
   "source": [
    "\n",
    "# Todo - Slice the dataframe to only contain the Male students.\n",
    "def only_male_students(df):\n",
    "    pass\n",
    "\n",
    "data = {\n",
    "    'Name': ['Alice', 'Bob', 'Charlie', 'Diana', 'Edward', 'Fiona', 'George', 'Hannah', 'Ivan', 'Julia'],\n",
    "    'Height': [165, 170, 175, 160, 180, 155, 168, 172, 178, 169],\n",
    "    'Age': [25, 32, 40, 22, 28, 30, 35, 26, 41, 29],\n",
    "    'YearsStudying': [2, 5, 4, 1, 4, 4, 7, 3, 6, 2],\n",
    "    'Sex': ['Female', 'Male', 'Male', 'Female', 'Male', 'Female', 'Male', 'Female', 'Male', 'Female']\n",
    "}\n",
    "\n",
    "dframe = pandas.DataFrame(data)\n",
    "\n",
    "print(only_male_students(dframe))\n"
   ],
   "id": "1a3d4989b58ebbd5"
  },
  {
   "metadata": {},
   "cell_type": "code",
   "outputs": [],
   "execution_count": null,
   "source": [
    "\n",
    "# Todo - Slice the dataframe to only contain the Male students taller than 170cm.\n",
    "def only_tall_male_students(df):\n",
    "    pass\n",
    "\n",
    "\n",
    "data = {\n",
    "    'Name': ['Alice', 'Bob', 'Charlie', 'Diana', 'Edward', 'Fiona', 'George', 'Hannah', 'Ivan', 'Julia'],\n",
    "    'Height': [165, 170, 175, 160, 180, 155, 168, 172, 178, 169],\n",
    "    'Age': [25, 32, 40, 22, 28, 30, 35, 26, 41, 29],\n",
    "    'YearsStudying': [2, 5, 4, 1, 4, 4, 7, 3, 6, 2],\n",
    "    'Sex': ['Female', 'Male', 'Male', 'Female', 'Male', 'Female', 'Male', 'Female', 'Male', 'Female']\n",
    "}\n",
    "\n",
    "dframe = pandas.DataFrame(data)\n",
    "\n",
    "print(only_tall_male_students(dframe))\n"
   ],
   "id": "19af41c302eb4dd5"
  },
  {
   "metadata": {},
   "cell_type": "code",
   "outputs": [],
   "execution_count": null,
   "source": [
    "\n",
    "# Todo - Given that now is 2024, create a new column that contains the year when the students started when they have\n",
    "#  been studying for 'YearsStudying'. Write the result in a new column named 'YearStarted' and return the new dataframe.\n",
    "def year_started(df):\n",
    "    pass\n",
    "\n",
    "\n",
    "data = {\n",
    "    'Name': ['Alice', 'Bob', 'Charlie', 'Diana', 'Edward', 'Fiona', 'George', 'Hannah', 'Ivan', 'Julia'],\n",
    "    'Height': [165, 170, 175, 160, 180, 155, 168, 172, 178, 169],\n",
    "    'Age': [25, 32, 40, 22, 28, 30, 35, 26, 41, 29],\n",
    "    'YearsStudying': [2, 5, 4, 1, 4, 4, 7, 3, 6, 2],\n",
    "    'Sex': ['Female', 'Male', 'Male', 'Female', 'Male', 'Female', 'Male', 'Female', 'Male', 'Female']\n",
    "}\n",
    "\n",
    "dframe = pandas.DataFrame(data)\n",
    "\n",
    "print(year_started(dframe))"
   ],
   "id": "240128b62cbb3405"
  },
  {
   "metadata": {},
   "cell_type": "code",
   "outputs": [],
   "execution_count": null,
   "source": [
    "\n",
    "# Todo - Group the dataframe by sex and return means of age, height, and years studying. (google pandas 'groupby')\n",
    "#  returned value must be a dataframe.\n",
    "def group_means(df):\n",
    "    pass\n",
    "\n",
    "\n",
    "data = {\n",
    "    'Name': ['Alice', 'Bob', 'Charlie', 'Diana', 'Edward', 'Fiona', 'George', 'Hannah', 'Ivan', 'Julia'],\n",
    "    'Height': [165, 170, 175, 160, 180, 155, 168, 172, 178, 169],\n",
    "    'Age': [25, 32, 40, 22, 28, 30, 35, 26, 41, 29],\n",
    "    'YearsStudying': [2, 5, 4, 1, 4, 4, 7, 3, 6, 2],\n",
    "    'Sex': ['Female', 'Male', 'Male', 'Female', 'Male', 'Female', 'Male', 'Female', 'Male', 'Female']\n",
    "}\n",
    "\n",
    "dframe = pandas.DataFrame(data)\n",
    "\n",
    "print(group_means(dframe))\n"
   ],
   "id": "15114a2d7cf361d7"
  },
  {
   "metadata": {},
   "cell_type": "code",
   "outputs": [],
   "execution_count": null,
   "source": [
    "\n",
    "# Todo - Combine the two dataframes into a single one by concatenation (direction should be clear,\n",
    "#  the number of columns must not change) and return the new dataframe\n",
    "def concat_dataframes(df_a, df_b):\n",
    "    pass\n",
    "\n",
    "\n",
    "data = {\n",
    "    'Name': ['Alice', 'Bob', 'Charlie', 'Diana', 'Edward', 'Fiona', 'George', 'Hannah', 'Ivan', 'Julia'],\n",
    "    'Height': [165, 170, 175, 160, 180, 155, 168, 172, 178, 169],\n",
    "    'Age': [25, 32, 40, 22, 28, 30, 35, 26, 41, 29],\n",
    "    'YearsStudying': [2, 5, 4, 1, 4, 4, 7, 3, 6, 2],\n",
    "    'Sex': ['Female', 'Male', 'Male', 'Female', 'Male', 'Female', 'Male', 'Female', 'Male', 'Female']\n",
    "}\n",
    "\n",
    "dframe_a = pandas.DataFrame(data)\n",
    "\n",
    "data_2 = {\n",
    "    'Name': ['Kevin', 'Lewis', 'Martha'],\n",
    "    'Height': [195, 172, 158],\n",
    "    'Age': [22, 27, 29],\n",
    "    'YearsStudying': [1, 3, 4],\n",
    "    'Sex': ['Male', 'Male', 'Female']\n",
    "}\n",
    "\n",
    "dframe_b = pandas.DataFrame(data_2)\n",
    "\n",
    "print(concat_dataframes(dframe_a, dframe_b))\n",
    "\n"
   ],
   "id": "8f2adca7fa3af201"
  },
  {
   "metadata": {},
   "cell_type": "code",
   "outputs": [],
   "execution_count": null,
   "source": [
    "\n",
    "# Todo - Fill the missing values ('NaN') in the dataframe with 0.\n",
    "def fill_missing_values(df):\n",
    "    pass\n",
    "\n",
    "data_3 = {\n",
    "    'Name': ['Alice', 'Bob', 'Charlie', 'Diana', 'Edward', 'Fiona', 'George', 'Hannah', 'Ivan', 'Julia'],\n",
    "    'Height': [165, np.nan, 175, 160, 180, 155, 168, 172, 178, 169],\n",
    "    'Age': [25, 32, 40, 22, np.nan, 30, 35, 26, 41, 29],\n",
    "    'YearsStudying': [2, 5, np.nan, 1, 4, 4, 7, np.nan, 6, 2],\n",
    "    'Sex': ['Female', 'Male', 'Male', 'Female', 'Male', 'Female', 'Male', 'Female', 'Male', 'Female']\n",
    "}\n",
    "\n",
    "dframe_3 = pandas.DataFrame(data_3)\n",
    "\n",
    "print(fill_missing_values(dframe_3))\n"
   ],
   "id": "6cf9866e9be1e4f5"
  },
  {
   "metadata": {},
   "cell_type": "code",
   "outputs": [],
   "execution_count": null,
   "source": [
    "\n",
    "# Todo - convert time to datetime and set the index to be that datetime (and do not have two time columns in the end,\n",
    "#  returned dataframe should have only the time index and the 'measurement_a' and 'measurement_a' columns.\n",
    "def make_datetime_index(df):\n",
    "    pass\n",
    "\n",
    "data_time = {\n",
    "    'time': ['2024-10-20T01:00+00:00', '2024-10-20T05:34+00:00', '2024-10-20T07:12+00:00',\n",
    "             '2024-10-20T12:20+00:00'],\n",
    "    'measurement_a': [1, 3, 8, 23],\n",
    "    'measurement_b': [34, 23, 12, 33]\n",
    "}\n",
    "\n",
    "dframe_time = pandas.DataFrame(data_time)\n",
    "\n",
    "print(make_datetime_index(dframe_time))"
   ],
   "id": "3a5881f8e72798c8"
  },
  {
   "metadata": {},
   "cell_type": "code",
   "outputs": [],
   "execution_count": null,
   "source": [
    "\n",
    "# Todo - calculate the difference between each measurement and the last measurement and put it in a new\n",
    "#  column namend 'difference'. (since you cannot do this for the first one, set the value to np.nan there.)\n",
    "def difference_between_measurements(df):\n",
    "    pass\n",
    "\n",
    "data_measurements = {\n",
    "    'measurement_a': [1, 3, 8, 23],\n",
    "    'measurement_b': [34, 23, 12, 33]\n",
    "}\n",
    "\n",
    "dframe_measurements = pandas.DataFrame(data_measurements)\n",
    "\n",
    "print(difference_between_measurements(dframe_measurements))\n"
   ],
   "id": "96135f2c2135e4b4"
  },
  {
   "metadata": {},
   "cell_type": "markdown",
   "source": "## TAWES part\n",
   "id": "aca91401c24146be"
  },
  {
   "metadata": {},
   "cell_type": "markdown",
   "source": "**Task** Load the TAWES vienna csv as a pandas dataframe.",
   "id": "e4c569c7342054b4"
  },
  {
   "metadata": {},
   "cell_type": "code",
   "source": [
    "import pandas\n",
    "\n",
    "# load the dataset from ../../data/tawes/Messstationen Tagesdaten v2 Datensatz_18730101_19921231_wien.csv\n"
   ],
   "id": "770cc51e410b0ee4",
   "outputs": [],
   "execution_count": null
  },
  {
   "metadata": {},
   "cell_type": "markdown",
   "source": "**Task** Change the index to a datetime index using the 'time' column.\n",
   "id": "1489d44853bd3436"
  },
  {
   "metadata": {},
   "cell_type": "code",
   "outputs": [],
   "execution_count": null,
   "source": "# see 11_pandas_tawes.ipynb or 12_data_visualization.ipynb\n",
   "id": "8d1ba26896c24831"
  },
  {
   "metadata": {},
   "cell_type": "markdown",
   "source": "**Task** Resample the dataframe to yearly means.\n",
   "id": "f3d81f3f8466dd8"
  },
  {
   "metadata": {},
   "cell_type": "code",
   "outputs": [],
   "execution_count": null,
   "source": "",
   "id": "fb470ca538c24148"
  },
  {
   "metadata": {},
   "cell_type": "markdown",
   "source": "**Task** Slice/Filter the dataframe to only contain dates between 1890 and 1990\n",
   "id": "b6c6bc5095b4285a"
  },
  {
   "metadata": {},
   "cell_type": "code",
   "outputs": [],
   "execution_count": null,
   "source": "",
   "id": "7258d25bf62c3002"
  },
  {
   "metadata": {},
   "cell_type": "markdown",
   "source": "**Task** Plot the yearly mean temperatures ('tl_mittel') on the y axis and time on the x axis.\n",
   "id": "f121db5878b049c4"
  },
  {
   "metadata": {},
   "cell_type": "code",
   "outputs": [],
   "execution_count": null,
   "source": "",
   "id": "b1d44efca6ea6bf0"
  }
 ],
 "metadata": {
  "kernelspec": {
   "display_name": "Python 3",
   "language": "python",
   "name": "python3"
  },
  "language_info": {
   "codemirror_mode": {
    "name": "ipython",
    "version": 2
   },
   "file_extension": ".py",
   "mimetype": "text/x-python",
   "name": "python",
   "nbconvert_exporter": "python",
   "pygments_lexer": "ipython2",
   "version": "2.7.6"
  }
 },
 "nbformat": 4,
 "nbformat_minor": 5
}
